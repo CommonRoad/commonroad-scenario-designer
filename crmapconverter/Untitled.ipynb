{
 "cells": [
  {
   "cell_type": "code",
   "execution_count": 3,
   "metadata": {},
   "outputs": [
    {
     "name": "stdout",
     "output_type": "stream",
     "text": [
      "The autoreload extension is already loaded. To reload it, use:\n",
      "  %reload_ext autoreload\n",
      "['/home/aaron/Downloads/CR37/commonroad-map-tool/crmapconverter', '/home/aaron/anaconda3/envs/cr37/lib/python37.zip', '/home/aaron/anaconda3/envs/cr37/lib/python3.7', '/home/aaron/anaconda3/envs/cr37/lib/python3.7/lib-dynload', '', '/home/aaron/.local/lib/python3.7/site-packages', '/home/aaron/anaconda3/envs/cr37/lib/python3.7/site-packages', '/home/aaron/.local/bin', '/home/aaron/Downloads/CR37/commonroad-map-tool', '/home/aaron/Downloads/CR37/commonroad-io', '/home/aaron/Downloads/CR37/sumo', '/home/aaron/Downloads/CR37/sumo-interface', '/home/aaron/Downloads/CR37/commonroad-io/commonroad', '/home/aaron/Downloads/CR37/commonroad-search', '/home/aaron/Downloads/CR37/commonroad-drivability-checker', '/home/aaron/Downloads/CR37/commonroad-search/SMP', '/home/aaron/Downloads/CR37/commonroad-search/SMP/motion_planner/search_algorithms', '/home/aaron/anaconda3/envs/cr37/lib/python3.7/site-packages/IPython/extensions', '/home/aaron/.ipython', '/home/aaron/Downloads/CR37/commonroad-search/SMP', '/motion_planner/search_algorithms', '/home/aaron/Downloads/CR37/commonroad-search/SMP', '/motion_planner/search_algorithms', '/home/aaron/Downloads/CR37/commonroad-search/SMP', '/home/aaron/Downloads/CR37/commonroad-search/SMP/motion_planner/search_algorithms']\n"
     ]
    },
    {
     "ename": "ModuleNotFoundError",
     "evalue": "No module named 'commonroad_dc.pycrcc'",
     "output_type": "error",
     "traceback": [
      "\u001b[0;31m---------------------------------------------------------------------------\u001b[0m",
      "\u001b[0;31mModuleNotFoundError\u001b[0m                       Traceback (most recent call last)",
      "\u001b[0;32m<ipython-input-3-609c624e27f7>\u001b[0m in \u001b[0;36m<module>\u001b[0;34m\u001b[0m\n\u001b[1;32m     19\u001b[0m \u001b[0;32mfrom\u001b[0m \u001b[0mcommonroad\u001b[0m\u001b[0;34m.\u001b[0m\u001b[0mvisualization\u001b[0m\u001b[0;34m.\u001b[0m\u001b[0mdraw_dispatch_cr\u001b[0m \u001b[0;32mimport\u001b[0m \u001b[0mdraw_object\u001b[0m\u001b[0;34m\u001b[0m\u001b[0;34m\u001b[0m\u001b[0m\n\u001b[1;32m     20\u001b[0m \u001b[0;34m\u001b[0m\u001b[0m\n\u001b[0;32m---> 21\u001b[0;31m \u001b[0;32mfrom\u001b[0m \u001b[0mSMP\u001b[0m\u001b[0;34m.\u001b[0m\u001b[0mmotion_planner\u001b[0m\u001b[0;34m.\u001b[0m\u001b[0mmotion_planner\u001b[0m \u001b[0;32mimport\u001b[0m \u001b[0mMotionPlanner\u001b[0m\u001b[0;34m\u001b[0m\u001b[0;34m\u001b[0m\u001b[0m\n\u001b[0m\u001b[1;32m     22\u001b[0m \u001b[0;32mfrom\u001b[0m \u001b[0mSMP\u001b[0m\u001b[0;34m.\u001b[0m\u001b[0mmaneuver_automaton\u001b[0m\u001b[0;34m.\u001b[0m\u001b[0mmaneuver_automaton\u001b[0m \u001b[0;32mimport\u001b[0m \u001b[0mManeuverAutomaton\u001b[0m\u001b[0;34m\u001b[0m\u001b[0;34m\u001b[0m\u001b[0m\n\u001b[1;32m     23\u001b[0m \u001b[0;32mfrom\u001b[0m \u001b[0mSMP\u001b[0m\u001b[0;34m.\u001b[0m\u001b[0mmotion_planner\u001b[0m\u001b[0;34m.\u001b[0m\u001b[0mutility\u001b[0m \u001b[0;32mimport\u001b[0m \u001b[0mplot_primitives\u001b[0m\u001b[0;34m,\u001b[0m \u001b[0mdisplay_steps\u001b[0m\u001b[0;34m\u001b[0m\u001b[0;34m\u001b[0m\u001b[0m\n",
      "\u001b[0;32m~/Downloads/CR37/commonroad-search/SMP/motion_planner/motion_planner.py\u001b[0m in \u001b[0;36m<module>\u001b[0;34m\u001b[0m\n\u001b[1;32m      8\u001b[0m \u001b[0;32mfrom\u001b[0m \u001b[0mSMP\u001b[0m\u001b[0;34m.\u001b[0m\u001b[0mmaneuver_automaton\u001b[0m\u001b[0;34m.\u001b[0m\u001b[0mmaneuver_automaton\u001b[0m \u001b[0;32mimport\u001b[0m \u001b[0mManeuverAutomaton\u001b[0m\u001b[0;34m\u001b[0m\u001b[0;34m\u001b[0m\u001b[0m\n\u001b[1;32m      9\u001b[0m \u001b[0;31m# iterative search algorithms\u001b[0m\u001b[0;34m\u001b[0m\u001b[0;34m\u001b[0m\u001b[0;34m\u001b[0m\u001b[0m\n\u001b[0;32m---> 10\u001b[0;31m \u001b[0;32mfrom\u001b[0m \u001b[0mSMP\u001b[0m\u001b[0;34m.\u001b[0m\u001b[0mmotion_planner\u001b[0m\u001b[0;34m.\u001b[0m\u001b[0msearch_algorithms\u001b[0m\u001b[0;34m.\u001b[0m\u001b[0msequential_search\u001b[0m \u001b[0;32mimport\u001b[0m \u001b[0mBreadthFirstSearch\u001b[0m\u001b[0;34m\u001b[0m\u001b[0;34m\u001b[0m\u001b[0m\n\u001b[0m\u001b[1;32m     11\u001b[0m \u001b[0;32mfrom\u001b[0m \u001b[0mSMP\u001b[0m\u001b[0;34m.\u001b[0m\u001b[0mmotion_planner\u001b[0m\u001b[0;34m.\u001b[0m\u001b[0msearch_algorithms\u001b[0m\u001b[0;34m.\u001b[0m\u001b[0msequential_search\u001b[0m \u001b[0;32mimport\u001b[0m \u001b[0mDepthFirstSearch\u001b[0m\u001b[0;34m\u001b[0m\u001b[0;34m\u001b[0m\u001b[0m\n\u001b[1;32m     12\u001b[0m \u001b[0;31m# best first search algorithms\u001b[0m\u001b[0;34m\u001b[0m\u001b[0;34m\u001b[0m\u001b[0;34m\u001b[0m\u001b[0m\n",
      "\u001b[0;32m~/Downloads/CR37/commonroad-search/SMP/motion_planner/search_algorithms/sequential_search.py\u001b[0m in \u001b[0;36m<module>\u001b[0;34m\u001b[0m\n\u001b[1;32m     10\u001b[0m \u001b[0;32mfrom\u001b[0m \u001b[0mSMP\u001b[0m\u001b[0;34m.\u001b[0m\u001b[0mmotion_planner\u001b[0m\u001b[0;34m.\u001b[0m\u001b[0mutility\u001b[0m \u001b[0;32mimport\u001b[0m \u001b[0mMotionPrimitiveStatus\u001b[0m\u001b[0;34m,\u001b[0m \u001b[0minitial_visualization\u001b[0m\u001b[0;34m,\u001b[0m \u001b[0mupdate_visualization\u001b[0m\u001b[0;34m\u001b[0m\u001b[0;34m\u001b[0m\u001b[0m\n\u001b[1;32m     11\u001b[0m \u001b[0;32mfrom\u001b[0m \u001b[0mSMP\u001b[0m\u001b[0;34m.\u001b[0m\u001b[0mmotion_planner\u001b[0m\u001b[0;34m.\u001b[0m\u001b[0mqueue\u001b[0m \u001b[0;32mimport\u001b[0m \u001b[0mFIFOQueue\u001b[0m\u001b[0;34m,\u001b[0m \u001b[0mLIFOQueue\u001b[0m\u001b[0;34m\u001b[0m\u001b[0;34m\u001b[0m\u001b[0m\n\u001b[0;32m---> 12\u001b[0;31m \u001b[0;32mfrom\u001b[0m \u001b[0mSMP\u001b[0m\u001b[0;34m.\u001b[0m\u001b[0mmotion_planner\u001b[0m\u001b[0;34m.\u001b[0m\u001b[0msearch_algorithms\u001b[0m\u001b[0;34m.\u001b[0m\u001b[0mbase_class\u001b[0m \u001b[0;32mimport\u001b[0m \u001b[0mSearchBaseClass\u001b[0m\u001b[0;34m\u001b[0m\u001b[0;34m\u001b[0m\u001b[0m\n\u001b[0m\u001b[1;32m     13\u001b[0m \u001b[0;34m\u001b[0m\u001b[0m\n\u001b[1;32m     14\u001b[0m \u001b[0;34m\u001b[0m\u001b[0m\n",
      "\u001b[0;32m~/Downloads/CR37/commonroad-search/SMP/motion_planner/search_algorithms/base_class.py\u001b[0m in \u001b[0;36m<module>\u001b[0;34m\u001b[0m\n\u001b[1;32m     21\u001b[0m \u001b[0;32mfrom\u001b[0m \u001b[0mcommonroad\u001b[0m\u001b[0;34m.\u001b[0m\u001b[0mscenario\u001b[0m\u001b[0;34m.\u001b[0m\u001b[0mtrajectory\u001b[0m \u001b[0;32mimport\u001b[0m \u001b[0mState\u001b[0m\u001b[0;34m\u001b[0m\u001b[0;34m\u001b[0m\u001b[0m\n\u001b[1;32m     22\u001b[0m \u001b[0;32mfrom\u001b[0m \u001b[0mcommonroad\u001b[0m\u001b[0;34m.\u001b[0m\u001b[0mscenario\u001b[0m\u001b[0;34m.\u001b[0m\u001b[0mtrajectory\u001b[0m \u001b[0;32mimport\u001b[0m \u001b[0mTrajectory\u001b[0m\u001b[0;34m\u001b[0m\u001b[0;34m\u001b[0m\u001b[0m\n\u001b[0;32m---> 23\u001b[0;31m \u001b[0;32mfrom\u001b[0m \u001b[0mcommonroad_dc\u001b[0m\u001b[0;34m.\u001b[0m\u001b[0mboundary\u001b[0m \u001b[0;32mimport\u001b[0m \u001b[0mboundary\u001b[0m\u001b[0;34m\u001b[0m\u001b[0;34m\u001b[0m\u001b[0m\n\u001b[0m\u001b[1;32m     24\u001b[0m \u001b[0;32mfrom\u001b[0m \u001b[0mcommonroad_dc\u001b[0m\u001b[0;34m.\u001b[0m\u001b[0mcollision\u001b[0m\u001b[0;34m.\u001b[0m\u001b[0mcollision_detection\u001b[0m\u001b[0;34m.\u001b[0m\u001b[0mpycrcc_collision_dispatch\u001b[0m \u001b[0;32mimport\u001b[0m \u001b[0mcreate_collision_checker\u001b[0m\u001b[0;34m,\u001b[0m\u001b[0;31m \u001b[0m\u001b[0;31m\\\u001b[0m\u001b[0;34m\u001b[0m\u001b[0;34m\u001b[0m\u001b[0m\n\u001b[1;32m     25\u001b[0m     \u001b[0mcreate_collision_object\u001b[0m\u001b[0;34m\u001b[0m\u001b[0;34m\u001b[0m\u001b[0m\n",
      "\u001b[0;32m~/Downloads/CR37/commonroad-drivability-checker/commonroad_dc/boundary/boundary.py\u001b[0m in \u001b[0;36m<module>\u001b[0;34m\u001b[0m\n\u001b[1;32m      3\u001b[0m \u001b[0;34m\u001b[0m\u001b[0m\n\u001b[1;32m      4\u001b[0m \u001b[0;31m# commonroad-boundary\u001b[0m\u001b[0;34m\u001b[0m\u001b[0;34m\u001b[0m\u001b[0;34m\u001b[0m\u001b[0m\n\u001b[0;32m----> 5\u001b[0;31m \u001b[0;32mfrom\u001b[0m \u001b[0mcommonroad_dc\u001b[0m\u001b[0;34m.\u001b[0m\u001b[0mboundary\u001b[0m \u001b[0;32mimport\u001b[0m \u001b[0mconstruction\u001b[0m\u001b[0;34m\u001b[0m\u001b[0;34m\u001b[0m\u001b[0m\n\u001b[0m\u001b[1;32m      6\u001b[0m \u001b[0;34m\u001b[0m\u001b[0m\n\u001b[1;32m      7\u001b[0m \u001b[0;34m\u001b[0m\u001b[0m\n",
      "\u001b[0;32m~/Downloads/CR37/commonroad-drivability-checker/commonroad_dc/boundary/construction.py\u001b[0m in \u001b[0;36m<module>\u001b[0;34m\u001b[0m\n\u001b[1;32m     11\u001b[0m \u001b[0;32mfrom\u001b[0m \u001b[0mcommonroad\u001b[0m\u001b[0;34m.\u001b[0m\u001b[0mscenario\u001b[0m\u001b[0;34m.\u001b[0m\u001b[0mtrajectory\u001b[0m \u001b[0;32mimport\u001b[0m \u001b[0mState\u001b[0m\u001b[0;34m\u001b[0m\u001b[0;34m\u001b[0m\u001b[0m\n\u001b[1;32m     12\u001b[0m \u001b[0;34m\u001b[0m\u001b[0m\n\u001b[0;32m---> 13\u001b[0;31m \u001b[0;32mimport\u001b[0m \u001b[0mcommonroad_dc\u001b[0m\u001b[0;34m.\u001b[0m\u001b[0mpycrcc\u001b[0m \u001b[0;32mas\u001b[0m \u001b[0mpycrcc\u001b[0m\u001b[0;34m\u001b[0m\u001b[0;34m\u001b[0m\u001b[0m\n\u001b[0m\u001b[1;32m     14\u001b[0m \u001b[0;32mfrom\u001b[0m \u001b[0mcommonroad_dc\u001b[0m\u001b[0;34m.\u001b[0m\u001b[0mboundary\u001b[0m \u001b[0;32mimport\u001b[0m \u001b[0mtriangle_builder\u001b[0m\u001b[0;34m,\u001b[0m \u001b[0mlanelet_bounds\u001b[0m\u001b[0;34m,\u001b[0m \u001b[0mscenario_bounds\u001b[0m\u001b[0;34m\u001b[0m\u001b[0;34m\u001b[0m\u001b[0m\n\u001b[1;32m     15\u001b[0m \u001b[0;32mfrom\u001b[0m \u001b[0mcommonroad_dc\u001b[0m\u001b[0;34m.\u001b[0m\u001b[0mcollision\u001b[0m\u001b[0;34m.\u001b[0m\u001b[0mvisualization\u001b[0m\u001b[0;34m.\u001b[0m\u001b[0mdraw_dispatch\u001b[0m \u001b[0;32mimport\u001b[0m \u001b[0mdraw_object\u001b[0m\u001b[0;34m\u001b[0m\u001b[0;34m\u001b[0m\u001b[0m\n",
      "\u001b[0;31mModuleNotFoundError\u001b[0m: No module named 'commonroad_dc.pycrcc'"
     ]
    }
   ],
   "source": [
    "%matplotlib inline\n",
    "%load_ext autoreload\n",
    "%autoreload 2\n",
    "\n",
    "import os\n",
    "import sys\n",
    "path_notebook = os.getcwd()\n",
    "\n",
    "# add the SMP folder to python path\n",
    "sys.path.append(os.path.join(path_notebook, \"/home/aaron/Downloads/CR37/commonroad-search/SMP\"))\n",
    "\n",
    "# add the 1_search_algorithms folder to python path\n",
    "sys.path.append(os.path.join(path_notebook, \"/home/aaron/Downloads/CR37/commonroad-search/SMP/motion_planner/search_algorithms\"))\n",
    "print(sys.path)\n",
    "\n",
    "import matplotlib.pyplot as plt\n",
    "\n",
    "from commonroad.common.file_reader import CommonRoadFileReader\n",
    "from commonroad.visualization.draw_dispatch_cr import draw_object\n",
    "\n",
    "from SMP.motion_planner.motion_planner import MotionPlanner\n",
    "from SMP.maneuver_automaton.maneuver_automaton import ManeuverAutomaton\n",
    "from SMP.motion_planner.utility import plot_primitives, display_steps"
   ]
  },
  {
   "cell_type": "code",
   "execution_count": null,
   "metadata": {},
   "outputs": [],
   "source": []
  }
 ],
 "metadata": {
  "kernelspec": {
   "display_name": "Python 3",
   "language": "python",
   "name": "python3"
  },
  "language_info": {
   "codemirror_mode": {
    "name": "ipython",
    "version": 3
   },
   "file_extension": ".py",
   "mimetype": "text/x-python",
   "name": "python",
   "nbconvert_exporter": "python",
   "pygments_lexer": "ipython3",
   "version": "3.7.9"
  }
 },
 "nbformat": 4,
 "nbformat_minor": 4
}
