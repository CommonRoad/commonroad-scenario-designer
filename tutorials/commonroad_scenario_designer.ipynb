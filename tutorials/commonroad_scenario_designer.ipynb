{
 "cells": [
  {
   "cell_type": "markdown",
   "metadata": {
    "collapsed": true,
    "pycharm": {
     "name": "#%% md\n"
    }
   },
   "source": [
    "# CommonRoad Scenario Designer Tutorial\n",
    "This tutorial shows how to use the map conversion APIs of the CommonRoad Scenario Designer."
   ]
  },
  {
   "cell_type": "markdown",
   "source": [
    "## 1. Preparation\n",
    "Before you proceed any further, make sure you have successfully installed the CommonRoad Scenario Designer\n",
    "(cf. [README](../README.md))."
   ],
   "metadata": {
    "collapsed": false,
    "pycharm": {
     "name": "#%% md\n"
    }
   }
  },
  {
   "cell_type": "code",
   "execution_count": 6,
   "outputs": [],
   "source": [
    "# General Imports\n",
    "import os\n",
    "from lxml import etree\n",
    "\n",
    "from commonroad.scenario.scenario import Tag\n",
    "from commonroad.common.file_writer import CommonRoadFileWriter, OverwriteExistingFile\n",
    "from commonroad.planning.planning_problem import PlanningProblemSet\n",
    "from commonroad.common.file_reader import CommonRoadFileReader"
   ],
   "metadata": {
    "collapsed": false,
    "pycharm": {
     "name": "#%%\n"
    }
   }
  },
  {
   "cell_type": "markdown",
   "source": [
    "## 2. OSM to CommonRoad\n",
    "### Download Map"
   ],
   "metadata": {
    "collapsed": false,
    "pycharm": {
     "name": "#%% md\n"
    }
   }
  },
  {
   "cell_type": "code",
   "execution_count": 7,
   "outputs": [
    {
     "name": "stdout",
     "output_type": "stream",
     "text": [
      "downloading map\n"
     ]
    },
    {
     "ename": "KeyboardInterrupt",
     "evalue": "",
     "output_type": "error",
     "traceback": [
      "\u001B[0;31m---------------------------------------------------------------------------\u001B[0m",
      "\u001B[0;31mKeyboardInterrupt\u001B[0m                         Traceback (most recent call last)",
      "\u001B[0;32m<ipython-input-7-7444d887a799>\u001B[0m in \u001B[0;36m<module>\u001B[0;34m\u001B[0m\n\u001B[1;32m      2\u001B[0m \u001B[0;32mfrom\u001B[0m \u001B[0mcrdesigner\u001B[0m\u001B[0;34m.\u001B[0m\u001B[0mconversion\u001B[0m\u001B[0;34m.\u001B[0m\u001B[0mosm2cr\u001B[0m \u001B[0;32mimport\u001B[0m \u001B[0mconfig\u001B[0m\u001B[0;34m\u001B[0m\u001B[0;34m\u001B[0m\u001B[0m\n\u001B[1;32m      3\u001B[0m \u001B[0;34m\u001B[0m\u001B[0m\n\u001B[0;32m----> 4\u001B[0;31m \u001B[0mdownload_around_map\u001B[0m\u001B[0;34m(\u001B[0m\u001B[0mconfig\u001B[0m\u001B[0;34m.\u001B[0m\u001B[0mBENCHMARK_ID\u001B[0m \u001B[0;34m+\u001B[0m \u001B[0;34m'_downloaded.osm'\u001B[0m\u001B[0;34m,\u001B[0m \u001B[0;36m48.140289\u001B[0m\u001B[0;34m,\u001B[0m \u001B[0;36m11.566272\u001B[0m\u001B[0;34m)\u001B[0m\u001B[0;34m\u001B[0m\u001B[0;34m\u001B[0m\u001B[0m\n\u001B[0m",
      "\u001B[0;32m/media/sebastian/TUM/06_code/commonroad/cps/map-converter/commonroad-map-tool/crdesigner/conversion/osm2cr/converter_modules/osm_operations/downloader.py\u001B[0m in \u001B[0;36mdownload_around_map\u001B[0;34m(filename, lat, lon, radius)\u001B[0m\n\u001B[1;32m    104\u001B[0m     \"\"\"\n\u001B[1;32m    105\u001B[0m     \u001B[0mlon1\u001B[0m\u001B[0;34m,\u001B[0m \u001B[0mlat1\u001B[0m\u001B[0;34m,\u001B[0m \u001B[0mlon2\u001B[0m\u001B[0;34m,\u001B[0m \u001B[0mlat2\u001B[0m \u001B[0;34m=\u001B[0m \u001B[0mget_frame\u001B[0m\u001B[0;34m(\u001B[0m\u001B[0mlon\u001B[0m\u001B[0;34m,\u001B[0m \u001B[0mlat\u001B[0m\u001B[0;34m,\u001B[0m \u001B[0mradius\u001B[0m\u001B[0;34m)\u001B[0m\u001B[0;34m\u001B[0m\u001B[0;34m\u001B[0m\u001B[0m\n\u001B[0;32m--> 106\u001B[0;31m     \u001B[0mdownload_map\u001B[0m\u001B[0;34m(\u001B[0m\u001B[0mconfig\u001B[0m\u001B[0;34m.\u001B[0m\u001B[0mSAVE_PATH\u001B[0m \u001B[0;34m+\u001B[0m \u001B[0mfilename\u001B[0m\u001B[0;34m,\u001B[0m \u001B[0mlon1\u001B[0m\u001B[0;34m,\u001B[0m \u001B[0mlat1\u001B[0m\u001B[0;34m,\u001B[0m \u001B[0mlon2\u001B[0m\u001B[0;34m,\u001B[0m \u001B[0mlat2\u001B[0m\u001B[0;34m)\u001B[0m\u001B[0;34m\u001B[0m\u001B[0;34m\u001B[0m\u001B[0m\n\u001B[0m",
      "\u001B[0;32m/media/sebastian/TUM/06_code/commonroad/cps/map-converter/commonroad-map-tool/crdesigner/conversion/osm2cr/converter_modules/osm_operations/downloader.py\u001B[0m in \u001B[0;36mdownload_map\u001B[0;34m(filename, lon1, lat1, lon2, lat2)\u001B[0m\n\u001B[1;32m     58\u001B[0m     \u001B[0mquery\u001B[0m \u001B[0;34m=\u001B[0m \u001B[0;34m'https://api.openstreetmap.org/api/0.6/map?bbox={},{},{},{}'\u001B[0m\u001B[0;34m.\u001B[0m\u001B[0mformat\u001B[0m\u001B[0;34m(\u001B[0m\u001B[0mlon1\u001B[0m\u001B[0;34m,\u001B[0m \u001B[0mlat1\u001B[0m\u001B[0;34m,\u001B[0m \u001B[0mlon2\u001B[0m\u001B[0;34m,\u001B[0m \u001B[0mlat2\u001B[0m\u001B[0;34m)\u001B[0m\u001B[0;34m\u001B[0m\u001B[0;34m\u001B[0m\u001B[0m\n\u001B[1;32m     59\u001B[0m     \u001B[0mprint\u001B[0m\u001B[0;34m(\u001B[0m\u001B[0;34m\"downloading map\"\u001B[0m\u001B[0;34m)\u001B[0m\u001B[0;34m\u001B[0m\u001B[0;34m\u001B[0m\u001B[0m\n\u001B[0;32m---> 60\u001B[0;31m     \u001B[0mdata\u001B[0m \u001B[0;34m=\u001B[0m \u001B[0murlopen\u001B[0m\u001B[0;34m(\u001B[0m\u001B[0mquery\u001B[0m\u001B[0;34m)\u001B[0m\u001B[0;34m.\u001B[0m\u001B[0mread\u001B[0m\u001B[0;34m(\u001B[0m\u001B[0;34m)\u001B[0m\u001B[0;34m\u001B[0m\u001B[0;34m\u001B[0m\u001B[0m\n\u001B[0m\u001B[1;32m     61\u001B[0m     \u001B[0;32mwith\u001B[0m \u001B[0mopen\u001B[0m\u001B[0;34m(\u001B[0m\u001B[0mfilename\u001B[0m\u001B[0;34m,\u001B[0m \u001B[0;34m\"wb\"\u001B[0m\u001B[0;34m)\u001B[0m \u001B[0;32mas\u001B[0m \u001B[0mfile\u001B[0m\u001B[0;34m:\u001B[0m\u001B[0;34m\u001B[0m\u001B[0;34m\u001B[0m\u001B[0m\n\u001B[1;32m     62\u001B[0m         \u001B[0mfile\u001B[0m\u001B[0;34m.\u001B[0m\u001B[0mwrite\u001B[0m\u001B[0;34m(\u001B[0m\u001B[0mdata\u001B[0m\u001B[0;34m)\u001B[0m\u001B[0;34m\u001B[0m\u001B[0;34m\u001B[0m\u001B[0m\n",
      "\u001B[0;32m~/anaconda3/envs/commonroad-py36/lib/python3.6/urllib/request.py\u001B[0m in \u001B[0;36murlopen\u001B[0;34m(url, data, timeout, cafile, capath, cadefault, context)\u001B[0m\n\u001B[1;32m    221\u001B[0m     \u001B[0;32melse\u001B[0m\u001B[0;34m:\u001B[0m\u001B[0;34m\u001B[0m\u001B[0;34m\u001B[0m\u001B[0m\n\u001B[1;32m    222\u001B[0m         \u001B[0mopener\u001B[0m \u001B[0;34m=\u001B[0m \u001B[0m_opener\u001B[0m\u001B[0;34m\u001B[0m\u001B[0;34m\u001B[0m\u001B[0m\n\u001B[0;32m--> 223\u001B[0;31m     \u001B[0;32mreturn\u001B[0m \u001B[0mopener\u001B[0m\u001B[0;34m.\u001B[0m\u001B[0mopen\u001B[0m\u001B[0;34m(\u001B[0m\u001B[0murl\u001B[0m\u001B[0;34m,\u001B[0m \u001B[0mdata\u001B[0m\u001B[0;34m,\u001B[0m \u001B[0mtimeout\u001B[0m\u001B[0;34m)\u001B[0m\u001B[0;34m\u001B[0m\u001B[0;34m\u001B[0m\u001B[0m\n\u001B[0m\u001B[1;32m    224\u001B[0m \u001B[0;34m\u001B[0m\u001B[0m\n\u001B[1;32m    225\u001B[0m \u001B[0;32mdef\u001B[0m \u001B[0minstall_opener\u001B[0m\u001B[0;34m(\u001B[0m\u001B[0mopener\u001B[0m\u001B[0;34m)\u001B[0m\u001B[0;34m:\u001B[0m\u001B[0;34m\u001B[0m\u001B[0;34m\u001B[0m\u001B[0m\n",
      "\u001B[0;32m~/anaconda3/envs/commonroad-py36/lib/python3.6/urllib/request.py\u001B[0m in \u001B[0;36mopen\u001B[0;34m(self, fullurl, data, timeout)\u001B[0m\n\u001B[1;32m    524\u001B[0m             \u001B[0mreq\u001B[0m \u001B[0;34m=\u001B[0m \u001B[0mmeth\u001B[0m\u001B[0;34m(\u001B[0m\u001B[0mreq\u001B[0m\u001B[0;34m)\u001B[0m\u001B[0;34m\u001B[0m\u001B[0;34m\u001B[0m\u001B[0m\n\u001B[1;32m    525\u001B[0m \u001B[0;34m\u001B[0m\u001B[0m\n\u001B[0;32m--> 526\u001B[0;31m         \u001B[0mresponse\u001B[0m \u001B[0;34m=\u001B[0m \u001B[0mself\u001B[0m\u001B[0;34m.\u001B[0m\u001B[0m_open\u001B[0m\u001B[0;34m(\u001B[0m\u001B[0mreq\u001B[0m\u001B[0;34m,\u001B[0m \u001B[0mdata\u001B[0m\u001B[0;34m)\u001B[0m\u001B[0;34m\u001B[0m\u001B[0;34m\u001B[0m\u001B[0m\n\u001B[0m\u001B[1;32m    527\u001B[0m \u001B[0;34m\u001B[0m\u001B[0m\n\u001B[1;32m    528\u001B[0m         \u001B[0;31m# post-process response\u001B[0m\u001B[0;34m\u001B[0m\u001B[0;34m\u001B[0m\u001B[0;34m\u001B[0m\u001B[0m\n",
      "\u001B[0;32m~/anaconda3/envs/commonroad-py36/lib/python3.6/urllib/request.py\u001B[0m in \u001B[0;36m_open\u001B[0;34m(self, req, data)\u001B[0m\n\u001B[1;32m    542\u001B[0m         \u001B[0mprotocol\u001B[0m \u001B[0;34m=\u001B[0m \u001B[0mreq\u001B[0m\u001B[0;34m.\u001B[0m\u001B[0mtype\u001B[0m\u001B[0;34m\u001B[0m\u001B[0;34m\u001B[0m\u001B[0m\n\u001B[1;32m    543\u001B[0m         result = self._call_chain(self.handle_open, protocol, protocol +\n\u001B[0;32m--> 544\u001B[0;31m                                   '_open', req)\n\u001B[0m\u001B[1;32m    545\u001B[0m         \u001B[0;32mif\u001B[0m \u001B[0mresult\u001B[0m\u001B[0;34m:\u001B[0m\u001B[0;34m\u001B[0m\u001B[0;34m\u001B[0m\u001B[0m\n\u001B[1;32m    546\u001B[0m             \u001B[0;32mreturn\u001B[0m \u001B[0mresult\u001B[0m\u001B[0;34m\u001B[0m\u001B[0;34m\u001B[0m\u001B[0m\n",
      "\u001B[0;32m~/anaconda3/envs/commonroad-py36/lib/python3.6/urllib/request.py\u001B[0m in \u001B[0;36m_call_chain\u001B[0;34m(self, chain, kind, meth_name, *args)\u001B[0m\n\u001B[1;32m    502\u001B[0m         \u001B[0;32mfor\u001B[0m \u001B[0mhandler\u001B[0m \u001B[0;32min\u001B[0m \u001B[0mhandlers\u001B[0m\u001B[0;34m:\u001B[0m\u001B[0;34m\u001B[0m\u001B[0;34m\u001B[0m\u001B[0m\n\u001B[1;32m    503\u001B[0m             \u001B[0mfunc\u001B[0m \u001B[0;34m=\u001B[0m \u001B[0mgetattr\u001B[0m\u001B[0;34m(\u001B[0m\u001B[0mhandler\u001B[0m\u001B[0;34m,\u001B[0m \u001B[0mmeth_name\u001B[0m\u001B[0;34m)\u001B[0m\u001B[0;34m\u001B[0m\u001B[0;34m\u001B[0m\u001B[0m\n\u001B[0;32m--> 504\u001B[0;31m             \u001B[0mresult\u001B[0m \u001B[0;34m=\u001B[0m \u001B[0mfunc\u001B[0m\u001B[0;34m(\u001B[0m\u001B[0;34m*\u001B[0m\u001B[0margs\u001B[0m\u001B[0;34m)\u001B[0m\u001B[0;34m\u001B[0m\u001B[0;34m\u001B[0m\u001B[0m\n\u001B[0m\u001B[1;32m    505\u001B[0m             \u001B[0;32mif\u001B[0m \u001B[0mresult\u001B[0m \u001B[0;32mis\u001B[0m \u001B[0;32mnot\u001B[0m \u001B[0;32mNone\u001B[0m\u001B[0;34m:\u001B[0m\u001B[0;34m\u001B[0m\u001B[0;34m\u001B[0m\u001B[0m\n\u001B[1;32m    506\u001B[0m                 \u001B[0;32mreturn\u001B[0m \u001B[0mresult\u001B[0m\u001B[0;34m\u001B[0m\u001B[0;34m\u001B[0m\u001B[0m\n",
      "\u001B[0;32m~/anaconda3/envs/commonroad-py36/lib/python3.6/urllib/request.py\u001B[0m in \u001B[0;36mhttps_open\u001B[0;34m(self, req)\u001B[0m\n\u001B[1;32m   1359\u001B[0m         \u001B[0;32mdef\u001B[0m \u001B[0mhttps_open\u001B[0m\u001B[0;34m(\u001B[0m\u001B[0mself\u001B[0m\u001B[0;34m,\u001B[0m \u001B[0mreq\u001B[0m\u001B[0;34m)\u001B[0m\u001B[0;34m:\u001B[0m\u001B[0;34m\u001B[0m\u001B[0;34m\u001B[0m\u001B[0m\n\u001B[1;32m   1360\u001B[0m             return self.do_open(http.client.HTTPSConnection, req,\n\u001B[0;32m-> 1361\u001B[0;31m                 context=self._context, check_hostname=self._check_hostname)\n\u001B[0m\u001B[1;32m   1362\u001B[0m \u001B[0;34m\u001B[0m\u001B[0m\n\u001B[1;32m   1363\u001B[0m         \u001B[0mhttps_request\u001B[0m \u001B[0;34m=\u001B[0m \u001B[0mAbstractHTTPHandler\u001B[0m\u001B[0;34m.\u001B[0m\u001B[0mdo_request_\u001B[0m\u001B[0;34m\u001B[0m\u001B[0;34m\u001B[0m\u001B[0m\n",
      "\u001B[0;32m~/anaconda3/envs/commonroad-py36/lib/python3.6/urllib/request.py\u001B[0m in \u001B[0;36mdo_open\u001B[0;34m(self, http_class, req, **http_conn_args)\u001B[0m\n\u001B[1;32m   1319\u001B[0m             \u001B[0;32mexcept\u001B[0m \u001B[0mOSError\u001B[0m \u001B[0;32mas\u001B[0m \u001B[0merr\u001B[0m\u001B[0;34m:\u001B[0m \u001B[0;31m# timeout error\u001B[0m\u001B[0;34m\u001B[0m\u001B[0;34m\u001B[0m\u001B[0m\n\u001B[1;32m   1320\u001B[0m                 \u001B[0;32mraise\u001B[0m \u001B[0mURLError\u001B[0m\u001B[0;34m(\u001B[0m\u001B[0merr\u001B[0m\u001B[0;34m)\u001B[0m\u001B[0;34m\u001B[0m\u001B[0;34m\u001B[0m\u001B[0m\n\u001B[0;32m-> 1321\u001B[0;31m             \u001B[0mr\u001B[0m \u001B[0;34m=\u001B[0m \u001B[0mh\u001B[0m\u001B[0;34m.\u001B[0m\u001B[0mgetresponse\u001B[0m\u001B[0;34m(\u001B[0m\u001B[0;34m)\u001B[0m\u001B[0;34m\u001B[0m\u001B[0;34m\u001B[0m\u001B[0m\n\u001B[0m\u001B[1;32m   1322\u001B[0m         \u001B[0;32mexcept\u001B[0m\u001B[0;34m:\u001B[0m\u001B[0;34m\u001B[0m\u001B[0;34m\u001B[0m\u001B[0m\n\u001B[1;32m   1323\u001B[0m             \u001B[0mh\u001B[0m\u001B[0;34m.\u001B[0m\u001B[0mclose\u001B[0m\u001B[0;34m(\u001B[0m\u001B[0;34m)\u001B[0m\u001B[0;34m\u001B[0m\u001B[0;34m\u001B[0m\u001B[0m\n",
      "\u001B[0;32m~/anaconda3/envs/commonroad-py36/lib/python3.6/http/client.py\u001B[0m in \u001B[0;36mgetresponse\u001B[0;34m(self)\u001B[0m\n\u001B[1;32m   1329\u001B[0m         \u001B[0;32mtry\u001B[0m\u001B[0;34m:\u001B[0m\u001B[0;34m\u001B[0m\u001B[0;34m\u001B[0m\u001B[0m\n\u001B[1;32m   1330\u001B[0m             \u001B[0;32mtry\u001B[0m\u001B[0;34m:\u001B[0m\u001B[0;34m\u001B[0m\u001B[0;34m\u001B[0m\u001B[0m\n\u001B[0;32m-> 1331\u001B[0;31m                 \u001B[0mresponse\u001B[0m\u001B[0;34m.\u001B[0m\u001B[0mbegin\u001B[0m\u001B[0;34m(\u001B[0m\u001B[0;34m)\u001B[0m\u001B[0;34m\u001B[0m\u001B[0;34m\u001B[0m\u001B[0m\n\u001B[0m\u001B[1;32m   1332\u001B[0m             \u001B[0;32mexcept\u001B[0m \u001B[0mConnectionError\u001B[0m\u001B[0;34m:\u001B[0m\u001B[0;34m\u001B[0m\u001B[0;34m\u001B[0m\u001B[0m\n\u001B[1;32m   1333\u001B[0m                 \u001B[0mself\u001B[0m\u001B[0;34m.\u001B[0m\u001B[0mclose\u001B[0m\u001B[0;34m(\u001B[0m\u001B[0;34m)\u001B[0m\u001B[0;34m\u001B[0m\u001B[0;34m\u001B[0m\u001B[0m\n",
      "\u001B[0;32m~/anaconda3/envs/commonroad-py36/lib/python3.6/http/client.py\u001B[0m in \u001B[0;36mbegin\u001B[0;34m(self)\u001B[0m\n\u001B[1;32m    295\u001B[0m         \u001B[0;31m# read until we get a non-100 response\u001B[0m\u001B[0;34m\u001B[0m\u001B[0;34m\u001B[0m\u001B[0;34m\u001B[0m\u001B[0m\n\u001B[1;32m    296\u001B[0m         \u001B[0;32mwhile\u001B[0m \u001B[0;32mTrue\u001B[0m\u001B[0;34m:\u001B[0m\u001B[0;34m\u001B[0m\u001B[0;34m\u001B[0m\u001B[0m\n\u001B[0;32m--> 297\u001B[0;31m             \u001B[0mversion\u001B[0m\u001B[0;34m,\u001B[0m \u001B[0mstatus\u001B[0m\u001B[0;34m,\u001B[0m \u001B[0mreason\u001B[0m \u001B[0;34m=\u001B[0m \u001B[0mself\u001B[0m\u001B[0;34m.\u001B[0m\u001B[0m_read_status\u001B[0m\u001B[0;34m(\u001B[0m\u001B[0;34m)\u001B[0m\u001B[0;34m\u001B[0m\u001B[0;34m\u001B[0m\u001B[0m\n\u001B[0m\u001B[1;32m    298\u001B[0m             \u001B[0;32mif\u001B[0m \u001B[0mstatus\u001B[0m \u001B[0;34m!=\u001B[0m \u001B[0mCONTINUE\u001B[0m\u001B[0;34m:\u001B[0m\u001B[0;34m\u001B[0m\u001B[0;34m\u001B[0m\u001B[0m\n\u001B[1;32m    299\u001B[0m                 \u001B[0;32mbreak\u001B[0m\u001B[0;34m\u001B[0m\u001B[0;34m\u001B[0m\u001B[0m\n",
      "\u001B[0;32m~/anaconda3/envs/commonroad-py36/lib/python3.6/http/client.py\u001B[0m in \u001B[0;36m_read_status\u001B[0;34m(self)\u001B[0m\n\u001B[1;32m    256\u001B[0m \u001B[0;34m\u001B[0m\u001B[0m\n\u001B[1;32m    257\u001B[0m     \u001B[0;32mdef\u001B[0m \u001B[0m_read_status\u001B[0m\u001B[0;34m(\u001B[0m\u001B[0mself\u001B[0m\u001B[0;34m)\u001B[0m\u001B[0;34m:\u001B[0m\u001B[0;34m\u001B[0m\u001B[0;34m\u001B[0m\u001B[0m\n\u001B[0;32m--> 258\u001B[0;31m         \u001B[0mline\u001B[0m \u001B[0;34m=\u001B[0m \u001B[0mstr\u001B[0m\u001B[0;34m(\u001B[0m\u001B[0mself\u001B[0m\u001B[0;34m.\u001B[0m\u001B[0mfp\u001B[0m\u001B[0;34m.\u001B[0m\u001B[0mreadline\u001B[0m\u001B[0;34m(\u001B[0m\u001B[0m_MAXLINE\u001B[0m \u001B[0;34m+\u001B[0m \u001B[0;36m1\u001B[0m\u001B[0;34m)\u001B[0m\u001B[0;34m,\u001B[0m \u001B[0;34m\"iso-8859-1\"\u001B[0m\u001B[0;34m)\u001B[0m\u001B[0;34m\u001B[0m\u001B[0;34m\u001B[0m\u001B[0m\n\u001B[0m\u001B[1;32m    259\u001B[0m         \u001B[0;32mif\u001B[0m \u001B[0mlen\u001B[0m\u001B[0;34m(\u001B[0m\u001B[0mline\u001B[0m\u001B[0;34m)\u001B[0m \u001B[0;34m>\u001B[0m \u001B[0m_MAXLINE\u001B[0m\u001B[0;34m:\u001B[0m\u001B[0;34m\u001B[0m\u001B[0;34m\u001B[0m\u001B[0m\n\u001B[1;32m    260\u001B[0m             \u001B[0;32mraise\u001B[0m \u001B[0mLineTooLong\u001B[0m\u001B[0;34m(\u001B[0m\u001B[0;34m\"status line\"\u001B[0m\u001B[0;34m)\u001B[0m\u001B[0;34m\u001B[0m\u001B[0;34m\u001B[0m\u001B[0m\n",
      "\u001B[0;32m~/anaconda3/envs/commonroad-py36/lib/python3.6/socket.py\u001B[0m in \u001B[0;36mreadinto\u001B[0;34m(self, b)\u001B[0m\n\u001B[1;32m    584\u001B[0m         \u001B[0;32mwhile\u001B[0m \u001B[0;32mTrue\u001B[0m\u001B[0;34m:\u001B[0m\u001B[0;34m\u001B[0m\u001B[0;34m\u001B[0m\u001B[0m\n\u001B[1;32m    585\u001B[0m             \u001B[0;32mtry\u001B[0m\u001B[0;34m:\u001B[0m\u001B[0;34m\u001B[0m\u001B[0;34m\u001B[0m\u001B[0m\n\u001B[0;32m--> 586\u001B[0;31m                 \u001B[0;32mreturn\u001B[0m \u001B[0mself\u001B[0m\u001B[0;34m.\u001B[0m\u001B[0m_sock\u001B[0m\u001B[0;34m.\u001B[0m\u001B[0mrecv_into\u001B[0m\u001B[0;34m(\u001B[0m\u001B[0mb\u001B[0m\u001B[0;34m)\u001B[0m\u001B[0;34m\u001B[0m\u001B[0;34m\u001B[0m\u001B[0m\n\u001B[0m\u001B[1;32m    587\u001B[0m             \u001B[0;32mexcept\u001B[0m \u001B[0mtimeout\u001B[0m\u001B[0;34m:\u001B[0m\u001B[0;34m\u001B[0m\u001B[0;34m\u001B[0m\u001B[0m\n\u001B[1;32m    588\u001B[0m                 \u001B[0mself\u001B[0m\u001B[0;34m.\u001B[0m\u001B[0m_timeout_occurred\u001B[0m \u001B[0;34m=\u001B[0m \u001B[0;32mTrue\u001B[0m\u001B[0;34m\u001B[0m\u001B[0;34m\u001B[0m\u001B[0m\n",
      "\u001B[0;32m~/anaconda3/envs/commonroad-py36/lib/python3.6/ssl.py\u001B[0m in \u001B[0;36mrecv_into\u001B[0;34m(self, buffer, nbytes, flags)\u001B[0m\n\u001B[1;32m   1010\u001B[0m                   \u001B[0;34m\"non-zero flags not allowed in calls to recv_into() on %s\"\u001B[0m \u001B[0;34m%\u001B[0m\u001B[0;34m\u001B[0m\u001B[0;34m\u001B[0m\u001B[0m\n\u001B[1;32m   1011\u001B[0m                   self.__class__)\n\u001B[0;32m-> 1012\u001B[0;31m             \u001B[0;32mreturn\u001B[0m \u001B[0mself\u001B[0m\u001B[0;34m.\u001B[0m\u001B[0mread\u001B[0m\u001B[0;34m(\u001B[0m\u001B[0mnbytes\u001B[0m\u001B[0;34m,\u001B[0m \u001B[0mbuffer\u001B[0m\u001B[0;34m)\u001B[0m\u001B[0;34m\u001B[0m\u001B[0;34m\u001B[0m\u001B[0m\n\u001B[0m\u001B[1;32m   1013\u001B[0m         \u001B[0;32melse\u001B[0m\u001B[0;34m:\u001B[0m\u001B[0;34m\u001B[0m\u001B[0;34m\u001B[0m\u001B[0m\n\u001B[1;32m   1014\u001B[0m             \u001B[0;32mreturn\u001B[0m \u001B[0msocket\u001B[0m\u001B[0;34m.\u001B[0m\u001B[0mrecv_into\u001B[0m\u001B[0;34m(\u001B[0m\u001B[0mself\u001B[0m\u001B[0;34m,\u001B[0m \u001B[0mbuffer\u001B[0m\u001B[0;34m,\u001B[0m \u001B[0mnbytes\u001B[0m\u001B[0;34m,\u001B[0m \u001B[0mflags\u001B[0m\u001B[0;34m)\u001B[0m\u001B[0;34m\u001B[0m\u001B[0;34m\u001B[0m\u001B[0m\n",
      "\u001B[0;32m~/anaconda3/envs/commonroad-py36/lib/python3.6/ssl.py\u001B[0m in \u001B[0;36mread\u001B[0;34m(self, len, buffer)\u001B[0m\n\u001B[1;32m    872\u001B[0m             \u001B[0;32mraise\u001B[0m \u001B[0mValueError\u001B[0m\u001B[0;34m(\u001B[0m\u001B[0;34m\"Read on closed or unwrapped SSL socket.\"\u001B[0m\u001B[0;34m)\u001B[0m\u001B[0;34m\u001B[0m\u001B[0;34m\u001B[0m\u001B[0m\n\u001B[1;32m    873\u001B[0m         \u001B[0;32mtry\u001B[0m\u001B[0;34m:\u001B[0m\u001B[0;34m\u001B[0m\u001B[0;34m\u001B[0m\u001B[0m\n\u001B[0;32m--> 874\u001B[0;31m             \u001B[0;32mreturn\u001B[0m \u001B[0mself\u001B[0m\u001B[0;34m.\u001B[0m\u001B[0m_sslobj\u001B[0m\u001B[0;34m.\u001B[0m\u001B[0mread\u001B[0m\u001B[0;34m(\u001B[0m\u001B[0mlen\u001B[0m\u001B[0;34m,\u001B[0m \u001B[0mbuffer\u001B[0m\u001B[0;34m)\u001B[0m\u001B[0;34m\u001B[0m\u001B[0;34m\u001B[0m\u001B[0m\n\u001B[0m\u001B[1;32m    875\u001B[0m         \u001B[0;32mexcept\u001B[0m \u001B[0mSSLError\u001B[0m \u001B[0;32mas\u001B[0m \u001B[0mx\u001B[0m\u001B[0;34m:\u001B[0m\u001B[0;34m\u001B[0m\u001B[0;34m\u001B[0m\u001B[0m\n\u001B[1;32m    876\u001B[0m             \u001B[0;32mif\u001B[0m \u001B[0mx\u001B[0m\u001B[0;34m.\u001B[0m\u001B[0margs\u001B[0m\u001B[0;34m[\u001B[0m\u001B[0;36m0\u001B[0m\u001B[0;34m]\u001B[0m \u001B[0;34m==\u001B[0m \u001B[0mSSL_ERROR_EOF\u001B[0m \u001B[0;32mand\u001B[0m \u001B[0mself\u001B[0m\u001B[0;34m.\u001B[0m\u001B[0msuppress_ragged_eofs\u001B[0m\u001B[0;34m:\u001B[0m\u001B[0;34m\u001B[0m\u001B[0;34m\u001B[0m\u001B[0m\n",
      "\u001B[0;32m~/anaconda3/envs/commonroad-py36/lib/python3.6/ssl.py\u001B[0m in \u001B[0;36mread\u001B[0;34m(self, len, buffer)\u001B[0m\n\u001B[1;32m    629\u001B[0m         \"\"\"\n\u001B[1;32m    630\u001B[0m         \u001B[0;32mif\u001B[0m \u001B[0mbuffer\u001B[0m \u001B[0;32mis\u001B[0m \u001B[0;32mnot\u001B[0m \u001B[0;32mNone\u001B[0m\u001B[0;34m:\u001B[0m\u001B[0;34m\u001B[0m\u001B[0;34m\u001B[0m\u001B[0m\n\u001B[0;32m--> 631\u001B[0;31m             \u001B[0mv\u001B[0m \u001B[0;34m=\u001B[0m \u001B[0mself\u001B[0m\u001B[0;34m.\u001B[0m\u001B[0m_sslobj\u001B[0m\u001B[0;34m.\u001B[0m\u001B[0mread\u001B[0m\u001B[0;34m(\u001B[0m\u001B[0mlen\u001B[0m\u001B[0;34m,\u001B[0m \u001B[0mbuffer\u001B[0m\u001B[0;34m)\u001B[0m\u001B[0;34m\u001B[0m\u001B[0;34m\u001B[0m\u001B[0m\n\u001B[0m\u001B[1;32m    632\u001B[0m         \u001B[0;32melse\u001B[0m\u001B[0;34m:\u001B[0m\u001B[0;34m\u001B[0m\u001B[0;34m\u001B[0m\u001B[0m\n\u001B[1;32m    633\u001B[0m             \u001B[0mv\u001B[0m \u001B[0;34m=\u001B[0m \u001B[0mself\u001B[0m\u001B[0;34m.\u001B[0m\u001B[0m_sslobj\u001B[0m\u001B[0;34m.\u001B[0m\u001B[0mread\u001B[0m\u001B[0;34m(\u001B[0m\u001B[0mlen\u001B[0m\u001B[0;34m)\u001B[0m\u001B[0;34m\u001B[0m\u001B[0;34m\u001B[0m\u001B[0m\n",
      "\u001B[0;31mKeyboardInterrupt\u001B[0m: "
     ]
    }
   ],
   "source": [
    "from crdesigner.conversion.osm2cr.converter_modules.osm_operations.downloader import download_around_map\n",
    "from crdesigner.conversion.osm2cr import config\n",
    "\n",
    "download_around_map(config.BENCHMARK_ID + '_downloaded.osm', 48.140289, 11.566272)"
   ],
   "metadata": {
    "collapsed": false,
    "pycharm": {
     "name": "#%%\n"
    }
   }
  },
  {
   "cell_type": "markdown",
   "source": [
    "### General API"
   ],
   "metadata": {
    "collapsed": false,
    "pycharm": {
     "name": "#%% md\n"
    }
   }
  },
  {
   "cell_type": "code",
   "execution_count": null,
   "outputs": [],
   "source": [
    "from crdesigner.io.api import osm_to_commonroad\n",
    "\n",
    "# load OpenDRIVE file, parse it, and convert it to a CommonRoad scenario\n",
    "scenario = osm_to_commonroad(config.SAVE_PATH + config.BENCHMARK_ID + \".osm\")\n",
    "\n",
    "# store converted file as CommonRoad scenario\n",
    "writer = CommonRoadFileWriter(\n",
    "    scenario=scenario,\n",
    "    planning_problem_set=PlanningProblemSet(),\n",
    "    author=\"Sebastian Maierhofer\",\n",
    "    affiliation=\"Technical University of Munich\",\n",
    "    source=\"CommonRoad Scenario Designer\",\n",
    "    tags={Tag.URBAN},\n",
    ")\n",
    "writer.write_to_file(os.path.dirname(os.path.realpath(__file__)) + \"/\" + \"ZAM_OSM-1_1-T1.xml\",\n",
    "                     OverwriteExistingFile.ALWAYS)"
   ],
   "metadata": {
    "collapsed": false,
    "pycharm": {
     "name": "#%%\n"
    }
   }
  },
  {
   "cell_type": "markdown",
   "source": [
    "### OSM conversion APIs"
   ],
   "metadata": {
    "collapsed": false,
    "pycharm": {
     "name": "#%% md\n"
    }
   }
  },
  {
   "cell_type": "code",
   "execution_count": null,
   "outputs": [],
   "source": [
    "import crdesigner.conversion.osm2cr.converter_modules.converter as converter\n",
    "import crdesigner.conversion.osm2cr.converter_modules.cr_operations.export as ex\n",
    "\n",
    "\n",
    "# open the map and convert it to a scenario\n",
    "scenario = converter.GraphScenario(config.SAVE_PATH + config.BENCHMARK_ID + \"_downloaded.osm\")\n",
    "\n",
    "# draw and show the scenario\n",
    "scenario.plot()\n",
    "\n",
    "# save the scenario as commonroad file\n",
    "scenario.save_as_cr(config.SAVE_PATH + config.BENCHMARK_ID + \".xml\")\n",
    "# save the scenario as a binary\n",
    "scenario.save_to_file(config.SAVE_PATH + config.BENCHMARK_ID + \".pickle\")\n",
    "\n",
    "# view the generated\n",
    "ex.view_xml(config.SAVE_PATH + config.BENCHMARK_ID + \".xml\")"
   ],
   "metadata": {
    "collapsed": false,
    "pycharm": {
     "name": "#%%\n"
    }
   }
  },
  {
   "cell_type": "markdown",
   "source": [
    "## 3. OpenDRIVE to CommonRoad"
   ],
   "metadata": {
    "collapsed": false
   }
  },
  {
   "cell_type": "code",
   "execution_count": null,
   "outputs": [],
   "source": [
    "input_path = \"\"  # replace empty string"
   ],
   "metadata": {
    "collapsed": false,
    "pycharm": {
     "name": "#%%\n"
    }
   }
  },
  {
   "cell_type": "markdown",
   "source": [
    "### General API"
   ],
   "metadata": {
    "collapsed": false,
    "pycharm": {
     "name": "#%% md\n"
    }
   }
  },
  {
   "cell_type": "code",
   "execution_count": null,
   "outputs": [],
   "source": [
    "from crdesigner.io.api import opendrive_to_commonroad\n",
    "\n",
    "# load OpenDRIVE file, parse it, and convert it to a CommonRoad scenario\n",
    "scenario = opendrive_to_commonroad(input_path)\n",
    "\n",
    "# store converted file as CommonRoad scenario\n",
    "writer = CommonRoadFileWriter(\n",
    "    scenario=scenario,\n",
    "    planning_problem_set=PlanningProblemSet(),\n",
    "    author=\"Sebastian Maierhofer\",\n",
    "    affiliation=\"Technical University of Munich\",\n",
    "    source=\"CommonRoad Scenario Designer\",\n",
    "    tags={Tag.URBAN},\n",
    ")\n",
    "writer.write_to_file(os.path.dirname(os.path.realpath(__file__)) + \"/\" + \"ZAM_OpenDRIVETest-1_1-T1.xml\",\n",
    "                     OverwriteExistingFile.ALWAYS)"
   ],
   "metadata": {
    "collapsed": false,
    "pycharm": {
     "name": "#%%\n"
    }
   }
  },
  {
   "cell_type": "markdown",
   "source": [
    "### OpenDRIVE conversion APIs"
   ],
   "metadata": {
    "collapsed": false,
    "pycharm": {
     "name": "#%% md\n"
    }
   }
  },
  {
   "cell_type": "code",
   "execution_count": null,
   "outputs": [],
   "source": [
    "from crdesigner.conversion.opendrive.opendriveparser.parser import parse_opendrive\n",
    "from crdesigner.conversion.opendrive.opendriveconversion.network import Network\n",
    "\n",
    "# OpenDRIVE parser to load file\n",
    "with open(\"{}\".format(input_path), \"r\") as file_in:\n",
    "    opendrive = parse_opendrive(etree.parse(file_in).getroot())\n",
    "\n",
    "# create OpenDRIVE intermediate network object\n",
    "road_network = Network()\n",
    "\n",
    "# convert OpenDRIVE file\n",
    "road_network.load_opendrive(opendrive)\n",
    "\n",
    "# export to CommonRoad scenario\n",
    "scenario = road_network.export_commonroad_scenario()\n",
    "\n",
    "# store converted file as CommonRoad scenario\n",
    "writer = CommonRoadFileWriter(\n",
    "    scenario=scenario,\n",
    "    planning_problem_set=PlanningProblemSet(),\n",
    "    author=\"Sebastian Maierhofer\",\n",
    "    affiliation=\"Technical University of Munich\",\n",
    "    source=\"CommonRoad Scenario Designer\",\n",
    "    tags={Tag.URBAN},\n",
    ")\n",
    "writer.write_to_file(os.path.dirname(os.path.realpath(__file__)) + \"/\" + \"ZAM_OpenDRIVETest-1_1-T1.xml\",\n",
    "                     OverwriteExistingFile.ALWAYS)"
   ],
   "metadata": {
    "collapsed": false,
    "pycharm": {
     "name": "#%%\n"
    }
   }
  },
  {
   "cell_type": "markdown",
   "source": [
    "## 4. Lanelet/Lanelet2 to CommonRoad and CommonRoad to Lanelet"
   ],
   "metadata": {
    "collapsed": false
   }
  },
  {
   "cell_type": "code",
   "execution_count": null,
   "outputs": [],
   "source": [
    "input_path = \"\"  # replace empty string\n",
    "proj = \"\"  # replace empty string\n",
    "left_driving = False  # replace with favoured value\n",
    "adjacencies = False  # replace with favoured value"
   ],
   "metadata": {
    "collapsed": false,
    "pycharm": {
     "name": "#%%\n"
    }
   }
  },
  {
   "cell_type": "markdown",
   "source": [
    "### General API"
   ],
   "metadata": {
    "collapsed": false,
    "pycharm": {
     "name": "#%% md\n"
    }
   }
  },
  {
   "cell_type": "code",
   "execution_count": null,
   "outputs": [],
   "source": [
    "from crdesigner.io.api import lanelet_to_commonroad\n",
    "\n",
    "scenario = lanelet_to_commonroad(input_path, proj, left_driving, adjacencies)\n",
    "\n",
    "# store converted file as CommonRoad scenario\n",
    "writer = CommonRoadFileWriter(\n",
    "    scenario=scenario,\n",
    "    planning_problem_set=PlanningProblemSet(),\n",
    "    author=\"Sebastian Maierhofer\",\n",
    "    affiliation=\"Technical University of Munich\",\n",
    "    source=\"CommonRoad Scenario Designer\",\n",
    "    tags={Tag.URBAN},\n",
    ")\n",
    "writer.write_to_file(os.path.dirname(os.path.realpath(__file__)) + \"/\" + \"ZAM_Lanelet-1_1-T1.xml\",\n",
    "                     OverwriteExistingFile.ALWAYS)"
   ],
   "metadata": {
    "collapsed": false,
    "pycharm": {
     "name": "#%%\n"
    }
   }
  },
  {
   "cell_type": "markdown",
   "source": [
    "### Lanelet conversion APIs"
   ],
   "metadata": {
    "collapsed": false,
    "pycharm": {
     "name": "#%% md\n"
    }
   }
  },
  {
   "cell_type": "code",
   "execution_count": null,
   "outputs": [],
   "source": [
    "from crdesigner.conversion.lanelet_lanelet2.lanelet2cr import Lanelet2CRConverter\n",
    "from crdesigner.conversion.lanelet_lanelet2.lanelet2_parser import Lanelet2Parser\n",
    "\n",
    "# read and parse lanelet/lanelet2 file\n",
    "parser = Lanelet2Parser(etree.parse(input_path).getroot())\n",
    "lanelet2_content = parser.parse()\n",
    "\n",
    "# convert lanelet/lanelet2 map to CommonRoad\n",
    "lanelet2_converter = Lanelet2CRConverter(proj_string=proj)\n",
    "scenario = lanelet2_converter(lanelet2_content, detect_adjacencies=adjacencies, left_driving_system=left_driving)\n",
    "\n",
    "# store converted file as CommonRoad scenario\n",
    "writer = CommonRoadFileWriter(\n",
    "    scenario=scenario,\n",
    "    planning_problem_set=PlanningProblemSet(),\n",
    "    author=\"Sebastian Maierhofer\",\n",
    "    affiliation=\"Technical University of Munich\",\n",
    "    source=\"CommonRoad Scenario Designer\",\n",
    "    tags={Tag.URBAN},\n",
    ")\n",
    "writer.write_to_file(os.path.dirname(os.path.realpath(__file__)) + \"/\" + \"ZAM_Lanelet-1_1-T1.xml\",\n",
    "                     OverwriteExistingFile.ALWAYS)"
   ],
   "metadata": {
    "collapsed": false,
    "pycharm": {
     "name": "#%%\n"
    }
   }
  },
  {
   "cell_type": "markdown",
   "source": [
    "## 5. CommonRoad to Lanelet"
   ],
   "metadata": {
    "collapsed": false,
    "pycharm": {
     "name": "#%% md\n"
    }
   }
  },
  {
   "cell_type": "code",
   "execution_count": null,
   "outputs": [],
   "source": [
    "input_path = \"\"  # replace empty string\n",
    "output_name = \"\"  # replace empty string\n",
    "proj = \"\"  # replace empty string"
   ],
   "metadata": {
    "collapsed": false,
    "pycharm": {
     "name": "#%%\n"
    }
   }
  },
  {
   "cell_type": "markdown",
   "source": [
    "### General API"
   ],
   "metadata": {
    "collapsed": false,
    "pycharm": {
     "name": "#%% md\n"
    }
   }
  },
  {
   "cell_type": "code",
   "execution_count": null,
   "outputs": [],
   "source": [
    "from crdesigner.io.api import commonroad_to_lanelet\n",
    "\n",
    "# load CommonRoad file and convert it to lanelet format\n",
    "commonroad_to_lanelet(input_path, output_name, proj)"
   ],
   "metadata": {
    "collapsed": false,
    "pycharm": {
     "name": "#%%\n"
    }
   }
  },
  {
   "cell_type": "markdown",
   "source": [
    "### Lanelet conversion APIs"
   ],
   "metadata": {
    "collapsed": false,
    "pycharm": {
     "name": "#%% md\n"
    }
   }
  },
  {
   "cell_type": "code",
   "execution_count": null,
   "outputs": [],
   "source": [
    "from crdesigner.conversion.lanelet_lanelet2.cr2lanelet import CR2LaneletConverter\n",
    "\n",
    "try:\n",
    "    commonroad_reader = CommonRoadFileReader(input_path)\n",
    "    scenario, _ = commonroad_reader.open()\n",
    "except etree.XMLSyntaxError as xml_error:\n",
    "    print(f\"SyntaxError: {xml_error}\")\n",
    "    print(\"There was an error during the loading of the selected CommonRoad file.\\n\")\n",
    "    scenario = None\n",
    "\n",
    "if scenario:\n",
    "    l2osm = CR2LaneletConverter(proj)\n",
    "    osm = l2osm(scenario)\n",
    "    with open(f\"{output_name}\", \"wb\") as file_out:\n",
    "        file_out.write(etree.tostring(osm, xml_declaration=True, encoding=\"UTF-8\", pretty_print=True))"
   ],
   "metadata": {
    "collapsed": false,
    "pycharm": {
     "name": "#%%\n"
    }
   }
  },
  {
   "cell_type": "markdown",
   "source": [
    "## 6. SUMO to CommonRoad"
   ],
   "metadata": {
    "collapsed": false
   }
  },
  {
   "cell_type": "code",
   "execution_count": null,
   "outputs": [],
   "source": [
    "input_file = \"\"  # replace empty string\n"
   ],
   "metadata": {
    "collapsed": false,
    "pycharm": {
     "name": "#%%\n"
    }
   }
  },
  {
   "cell_type": "markdown",
   "source": [
    "### General API\n"
   ],
   "metadata": {
    "collapsed": false
   }
  },
  {
   "cell_type": "code",
   "execution_count": null,
   "outputs": [],
   "source": [
    "from crdesigner.io.api import sumo_to_commonroad\n",
    "\n",
    "# load SUMO net file, parse it, and convert it to a CommonRoad map\n",
    "scenario = sumo_to_commonroad(input_file)\n",
    "\n",
    "# store converted file as CommonRoad scenario\n",
    "writer = CommonRoadFileWriter(\n",
    "    scenario=scenario,\n",
    "    planning_problem_set=PlanningProblemSet(),\n",
    "    author=\"Sebastian Maierhofer\",\n",
    "    affiliation=\"Technical University of Munich\",\n",
    "    source=\"CommonRoad Scenario Designer\",\n",
    "    tags={Tag.URBAN},\n",
    ")\n",
    "writer.write_to_file(os.path.dirname(os.path.realpath(__file__)) + \"/\" + \"ZAM_SUMO-1_1-T1.xml\",\n",
    "                     OverwriteExistingFile.ALWAYS)"
   ],
   "metadata": {
    "collapsed": false,
    "pycharm": {
     "name": "#%%\n"
    }
   }
  },
  {
   "cell_type": "markdown",
   "source": [
    "### SUMO conversion APIs\n"
   ],
   "metadata": {
    "collapsed": false,
    "pycharm": {
     "name": "#%% md\n"
    }
   }
  },
  {
   "cell_type": "code",
   "execution_count": null,
   "outputs": [],
   "source": [
    "from crdesigner.io.gui.toolboxes.gui_sumo_simulation import SUMO_AVAILABLE\n",
    "if SUMO_AVAILABLE:\n",
    "    from crdesigner.conversion.sumo_map.sumo2cr import convert_net_to_cr\n",
    "\n",
    "# load SUMO net file, parse it, and convert it to a CommonRoad map\n",
    "scenario = convert_net_to_cr(input_file)\n",
    "\n",
    "# store converted file as CommonRoad scenario\n",
    "writer = CommonRoadFileWriter(\n",
    "    scenario=scenario,\n",
    "    planning_problem_set=PlanningProblemSet(),\n",
    "    author=\"Sebastian Maierhofer\",\n",
    "    affiliation=\"Technical University of Munich\",\n",
    "    source=\"CommonRoad Scenario Designer\",\n",
    "    tags={Tag.URBAN},\n",
    ")\n",
    "writer.write_to_file(os.path.dirname(os.path.realpath(__file__)) + \"/\" + \"ZAM_SUMO-1_1-T1.xml\",\n",
    "                     OverwriteExistingFile.ALWAYS)"
   ],
   "metadata": {
    "collapsed": false,
    "pycharm": {
     "name": "#%%\n"
    }
   }
  },
  {
   "cell_type": "markdown",
   "source": [
    "## 7. CommonRoad to SUMO"
   ],
   "metadata": {
    "collapsed": false
   }
  },
  {
   "cell_type": "code",
   "execution_count": null,
   "outputs": [],
   "source": [
    "output_folder = \"\"  # replace empty string\n",
    "scenario_name = \"\"  # replace empty string\n",
    "input_file = os.path.join(output_folder, scenario_name + '.xml')\n",
    "scenario, planning_problem = CommonRoadFileReader(input_file).open()"
   ],
   "metadata": {
    "collapsed": false,
    "pycharm": {
     "name": "#%%\n"
    }
   }
  },
  {
   "cell_type": "markdown",
   "source": [
    "### General API"
   ],
   "metadata": {
    "collapsed": false
   }
  },
  {
   "cell_type": "code",
   "execution_count": null,
   "outputs": [],
   "source": [
    "from crdesigner.io.api import commonroad_to_sumo\n",
    "\n",
    "commonroad_to_sumo(input_file, output_folder)"
   ],
   "metadata": {
    "collapsed": false,
    "pycharm": {
     "name": "#%%\n"
    }
   }
  },
  {
   "cell_type": "markdown",
   "source": [
    "### SUMO conversion APIs\n"
   ],
   "metadata": {
    "collapsed": false
   }
  },
  {
   "cell_type": "code",
   "execution_count": null,
   "outputs": [],
   "source": [
    "import uuid\n",
    "from crdesigner.io.gui.toolboxes.gui_sumo_simulation import SUMO_AVAILABLE\n",
    "if SUMO_AVAILABLE:\n",
    "    from crdesigner.conversion.sumo_map.config import SumoConfig\n",
    "    from crdesigner.conversion.sumo_map.cr2sumo import CR2SumoMapConverter\n",
    "\n",
    "try:\n",
    "    commonroad_reader = CommonRoadFileReader(input_file)\n",
    "    scenario, _ = commonroad_reader.open()\n",
    "except etree.XMLSyntaxError as xml_error:\n",
    "    print(f\"SyntaxError: {xml_error}\")\n",
    "    print(\n",
    "        \"There was an error during the loading of the selected CommonRoad file.\\n\")\n",
    "\n",
    "if SUMO_AVAILABLE:\n",
    "    config = SumoConfig.from_scenario_name(str(uuid.uuid4()))\n",
    "    config.scenario_name = scenario_name\n",
    "    converter = CR2SumoMapConverter(scenario.lanelet_network, config)\n",
    "    converter.convert_to_net_file(output_folder)"
   ],
   "metadata": {
    "collapsed": false,
    "pycharm": {
     "name": "#%%\n"
    }
   }
  },
  {
   "cell_type": "markdown",
   "source": [
    "### SUMO conversion APIs with Traffic Simulation and Video Creation"
   ],
   "metadata": {
    "collapsed": false
   }
  },
  {
   "cell_type": "code",
   "execution_count": null,
   "outputs": [],
   "source": [
    "from commonroad.visualization.draw_dispatch_cr import draw_object\n",
    "import matplotlib.pyplot as plt\n",
    "import numpy as np\n",
    "from crdesigner.io.gui.toolboxes.gui_sumo_simulation import SUMO_AVAILABLE\n",
    "if SUMO_AVAILABLE:\n",
    "    from crdesigner.conversion.sumo_map.config import SumoConfig\n",
    "    from crdesigner.conversion.sumo_map.cr2sumo.converter import CR2SumoMapConverter\n",
    "    from sumocr.interface.sumo_simulation import SumoSimulation\n",
    "    from sumocr.visualization.video import create_video\n",
    "\n",
    "# translate scenario to center\n",
    "centroid = np.mean(np.concatenate(\n",
    "    [la.center_vertices for la in scenario.lanelet_network.lanelets]),\n",
    "    axis=0)\n",
    "scenario.translate_rotate(-centroid, 0)\n",
    "planning_problem.translate_rotate(-centroid, 0)\n",
    "\n",
    "config = SumoConfig.from_scenario_name(scenario_name)\n",
    "\n",
    "# convert CR to sumo net\n",
    "wrapper = CR2SumoMapConverter(scenario.lanelet_network, config)\n",
    "wrapper.convert_to_net_file(output_folder)\n",
    "tls_lanelet_id = 43513\n",
    "traffic_light_system_generated = wrapper.auto_generate_traffic_light_system(tls_lanelet_id)\n",
    "\n",
    "print(f\"Generated Traffic Light System at {tls_lanelet_id}, {traffic_light_system_generated}\")\n",
    "\n",
    "# draw scenario after traffic light generation\n",
    "plt.figure(figsize=(25, 25))\n",
    "draw_object(wrapper.lanelet_network)\n",
    "plt.axis('equal')\n",
    "plt.autoscale()\n",
    "plt.show()\n",
    "\n",
    "# write generated traffic lights back to commonroad file\n",
    "scenario.lanelet_network = wrapper.lanelet_network\n",
    "\n",
    "# run Simulation\n",
    "simulation = SumoSimulation()\n",
    "simulation.initialize(config, wrapper)\n",
    "\n",
    "for t in range(config.simulation_steps):\n",
    "    simulation.simulate_step()\n",
    "\n",
    "simulation.stop()\n",
    "\n",
    "# save resulting scenario\n",
    "simulated_scenario = simulation.commonroad_scenarios_all_time_steps()\n",
    "CommonRoadFileWriter(simulated_scenario,\n",
    "                     planning_problem,\n",
    "                     author=scenario.author,\n",
    "                     affiliation=scenario.affiliation,\n",
    "                     source=scenario.source,\n",
    "                     tags=scenario.tags,\n",
    "                     location=scenario.location).write_scenario_to_file(\n",
    "    os.path.join(output_folder,\n",
    "                 config.scenario_name + \".simulated.xml\"),\n",
    "    overwrite_existing_file=OverwriteExistingFile.ALWAYS)\n",
    "\n",
    "print(\"creating video (this may take some time)\")\n",
    "create_video(simulation, 1, config.simulation_steps, output_folder)"
   ],
   "metadata": {
    "collapsed": false,
    "pycharm": {
     "name": "#%%\n"
    }
   }
  }
 ],
 "metadata": {
  "kernelspec": {
   "display_name": "Python 3",
   "language": "python",
   "name": "python3"
  },
  "language_info": {
   "codemirror_mode": {
    "name": "ipython",
    "version": 2
   },
   "file_extension": ".py",
   "mimetype": "text/x-python",
   "name": "python",
   "nbconvert_exporter": "python",
   "pygments_lexer": "ipython2",
   "version": "2.7.6"
  }
 },
 "nbformat": 4,
 "nbformat_minor": 0
}