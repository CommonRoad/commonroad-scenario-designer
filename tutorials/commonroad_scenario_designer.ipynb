{
 "cells": [
  {
   "cell_type": "markdown",
   "metadata": {
    "collapsed": true,
    "pycharm": {
     "name": "#%% md\n"
    }
   },
   "source": [
    "# CommonRoad Scenario Designer Tutorial\n",
    "This tutorial shows how to use the APIs for map conversion of the CommonRoad Scenario Designer."
   ]
  },
  {
   "cell_type": "markdown",
   "source": [
    "## 1. Preparation\n",
    "Before you proceed any further, make sure you have successfully installed the CommonRoad Scenario\n",
    "Designer."
   ],
   "metadata": {
    "collapsed": false,
    "pycharm": {
     "name": "#%% md\n"
    }
   }
  },
  {
   "cell_type": "markdown",
   "source": [
    "## 2. OSM to CommonRoad\n"
   ],
   "metadata": {
    "collapsed": false,
    "pycharm": {
     "name": "#%% md\n"
    }
   }
  },
  {
   "cell_type": "code",
   "execution_count": 4,
   "outputs": [
    {
     "name": "stdout",
     "output_type": "stream",
     "text": [
      "downloading map\n",
      "writing custom bounds\n",
      "reading File and creating graph\n",
      "extract main layer\n"
     ]
    },
    {
     "ename": "FileNotFoundError",
     "evalue": "[Errno 2] No such file or directory: 'files/ZAM_Test-1_1_T-1.osm'",
     "output_type": "error",
     "traceback": [
      "\u001B[0;31m---------------------------------------------------------------------------\u001B[0m",
      "\u001B[0;31mFileNotFoundError\u001B[0m                         Traceback (most recent call last)",
      "\u001B[0;32m<ipython-input-4-04710d1fe42d>\u001B[0m in \u001B[0;36m<module>\u001B[0;34m\u001B[0m\n\u001B[1;32m      8\u001B[0m \u001B[0;34m\u001B[0m\u001B[0m\n\u001B[1;32m      9\u001B[0m \u001B[0;31m# open the map and convert it to a scenario\u001B[0m\u001B[0;34m\u001B[0m\u001B[0;34m\u001B[0m\u001B[0;34m\u001B[0m\u001B[0m\n\u001B[0;32m---> 10\u001B[0;31m \u001B[0mscenario\u001B[0m \u001B[0;34m=\u001B[0m \u001B[0mconverter\u001B[0m\u001B[0;34m.\u001B[0m\u001B[0mGraphScenario\u001B[0m\u001B[0;34m(\u001B[0m\u001B[0mconfig\u001B[0m\u001B[0;34m.\u001B[0m\u001B[0mSAVE_PATH\u001B[0m \u001B[0;34m+\u001B[0m \u001B[0mconfig\u001B[0m\u001B[0;34m.\u001B[0m\u001B[0mBENCHMARK_ID\u001B[0m \u001B[0;34m+\u001B[0m \u001B[0;34m\".osm\"\u001B[0m\u001B[0;34m)\u001B[0m\u001B[0;34m\u001B[0m\u001B[0;34m\u001B[0m\u001B[0m\n\u001B[0m\u001B[1;32m     11\u001B[0m \u001B[0;34m\u001B[0m\u001B[0m\n\u001B[1;32m     12\u001B[0m \u001B[0;31m# draw and show the scenario\u001B[0m\u001B[0;34m\u001B[0m\u001B[0;34m\u001B[0m\u001B[0;34m\u001B[0m\u001B[0m\n",
      "\u001B[0;32m/media/sebastian/TUM/06_code/commonroad/cps/map-converter/commonroad-map-tool/crdesigner/osm2cr/converter_modules/converter.py\u001B[0m in \u001B[0;36m__init__\u001B[0;34m(self, file)\u001B[0m\n\u001B[1;32m     98\u001B[0m         \u001B[0mprint\u001B[0m\u001B[0;34m(\u001B[0m\u001B[0;34m\"reading File and creating graph\"\u001B[0m\u001B[0;34m)\u001B[0m\u001B[0;34m\u001B[0m\u001B[0;34m\u001B[0m\u001B[0m\n\u001B[1;32m     99\u001B[0m \u001B[0;34m\u001B[0m\u001B[0m\n\u001B[0;32m--> 100\u001B[0;31m         \u001B[0mgraph\u001B[0m \u001B[0;34m=\u001B[0m \u001B[0mstep_collection_1\u001B[0m\u001B[0;34m(\u001B[0m\u001B[0mfile\u001B[0m\u001B[0;34m)\u001B[0m\u001B[0;34m\u001B[0m\u001B[0;34m\u001B[0m\u001B[0m\n\u001B[0m\u001B[1;32m    101\u001B[0m         \u001B[0;31m# HERE WE CAN EDIT THE NODES AND EDGES OF THE GRAPH\u001B[0m\u001B[0;34m\u001B[0m\u001B[0;34m\u001B[0m\u001B[0;34m\u001B[0m\u001B[0m\n\u001B[1;32m    102\u001B[0m         \u001B[0;32mif\u001B[0m \u001B[0mconfig\u001B[0m\u001B[0;34m.\u001B[0m\u001B[0mUSER_EDIT\u001B[0m\u001B[0;34m:\u001B[0m\u001B[0;34m\u001B[0m\u001B[0;34m\u001B[0m\u001B[0m\n",
      "\u001B[0;32m/media/sebastian/TUM/06_code/commonroad/cps/map-converter/commonroad-map-tool/crdesigner/osm2cr/converter_modules/converter.py\u001B[0m in \u001B[0;36mstep_collection_1\u001B[0;34m(file)\u001B[0m\n\u001B[1;32m     19\u001B[0m \u001B[0;34m\u001B[0m\u001B[0m\n\u001B[1;32m     20\u001B[0m \u001B[0;32mdef\u001B[0m \u001B[0mstep_collection_1\u001B[0m\u001B[0;34m(\u001B[0m\u001B[0mfile\u001B[0m\u001B[0;34m:\u001B[0m \u001B[0mstr\u001B[0m\u001B[0;34m)\u001B[0m \u001B[0;34m->\u001B[0m \u001B[0mroad_graph\u001B[0m\u001B[0;34m.\u001B[0m\u001B[0mGraph\u001B[0m\u001B[0;34m:\u001B[0m\u001B[0;34m\u001B[0m\u001B[0;34m\u001B[0m\u001B[0m\n\u001B[0;32m---> 21\u001B[0;31m     \u001B[0mgraph\u001B[0m \u001B[0;34m=\u001B[0m \u001B[0mosm_parser\u001B[0m\u001B[0;34m.\u001B[0m\u001B[0mcreate_graph\u001B[0m\u001B[0;34m(\u001B[0m\u001B[0mfile\u001B[0m\u001B[0;34m)\u001B[0m\u001B[0;34m\u001B[0m\u001B[0;34m\u001B[0m\u001B[0m\n\u001B[0m\u001B[1;32m     22\u001B[0m     \u001B[0;32mif\u001B[0m \u001B[0mconfig\u001B[0m\u001B[0;34m.\u001B[0m\u001B[0mMAKE_CONTIGUOUS\u001B[0m\u001B[0;34m:\u001B[0m\u001B[0;34m\u001B[0m\u001B[0;34m\u001B[0m\u001B[0m\n\u001B[1;32m     23\u001B[0m         \u001B[0mprint\u001B[0m\u001B[0;34m(\u001B[0m\u001B[0;34m\"making graph contiguously\"\u001B[0m\u001B[0;34m)\u001B[0m\u001B[0;34m\u001B[0m\u001B[0;34m\u001B[0m\u001B[0m\n",
      "\u001B[0;32m/media/sebastian/TUM/06_code/commonroad/cps/map-converter/commonroad-map-tool/crdesigner/osm2cr/converter_modules/osm_operations/osm_parser.py\u001B[0m in \u001B[0;36mcreate_graph\u001B[0;34m(file_path)\u001B[0m\n\u001B[1;32m    920\u001B[0m     \u001B[0;32melse\u001B[0m\u001B[0;34m:\u001B[0m\u001B[0;34m\u001B[0m\u001B[0;34m\u001B[0m\u001B[0m\n\u001B[1;32m    921\u001B[0m         \u001B[0mprint\u001B[0m\u001B[0;34m(\u001B[0m\u001B[0;34m\"extract main layer\"\u001B[0m\u001B[0;34m)\u001B[0m\u001B[0;34m\u001B[0m\u001B[0;34m\u001B[0m\u001B[0m\n\u001B[0;32m--> 922\u001B[0;31m         \u001B[0mmain_g\u001B[0m\u001B[0;34m,\u001B[0m \u001B[0m_\u001B[0m \u001B[0;34m=\u001B[0m \u001B[0m_create_graph\u001B[0m\u001B[0;34m(\u001B[0m\u001B[0mfile_path\u001B[0m\u001B[0;34m,\u001B[0m \u001B[0mconfig\u001B[0m\u001B[0;34m.\u001B[0m\u001B[0mACCEPTED_HIGHWAYS_MAINLAYER\u001B[0m\u001B[0;34m)\u001B[0m\u001B[0;34m\u001B[0m\u001B[0;34m\u001B[0m\u001B[0m\n\u001B[0m\u001B[1;32m    923\u001B[0m \u001B[0;34m\u001B[0m\u001B[0m\n\u001B[1;32m    924\u001B[0m     \u001B[0;32mreturn\u001B[0m \u001B[0mmain_g\u001B[0m\u001B[0;34m\u001B[0m\u001B[0;34m\u001B[0m\u001B[0m\n",
      "\u001B[0;32m/media/sebastian/TUM/06_code/commonroad/cps/map-converter/commonroad-map-tool/crdesigner/osm2cr/converter_modules/osm_operations/osm_parser.py\u001B[0m in \u001B[0;36m_create_graph\u001B[0;34m(file, accepted_ways, custom_bounds, additional_nodes)\u001B[0m\n\u001B[1;32m    864\u001B[0m             \u001B[0mtraffic_lights\u001B[0m\u001B[0;34m,\u001B[0m \u001B[0mcrossing_points\u001B[0m\u001B[0;34m\u001B[0m\u001B[0;34m\u001B[0m\u001B[0m\n\u001B[1;32m    865\u001B[0m         \u001B[0;34m)\u001B[0m \u001B[0;34m=\u001B[0m \u001B[0mparse_file\u001B[0m\u001B[0;34m(\u001B[0m\u001B[0;34m\u001B[0m\u001B[0;34m\u001B[0m\u001B[0m\n\u001B[0;32m--> 866\u001B[0;31m             \u001B[0mfile\u001B[0m\u001B[0;34m,\u001B[0m \u001B[0maccepted_ways\u001B[0m\u001B[0;34m,\u001B[0m \u001B[0mconfig\u001B[0m\u001B[0;34m.\u001B[0m\u001B[0mREJECTED_TAGS\u001B[0m\u001B[0;34m,\u001B[0m \u001B[0mcustom_bounds\u001B[0m\u001B[0;34m\u001B[0m\u001B[0;34m\u001B[0m\u001B[0m\n\u001B[0m\u001B[1;32m    867\u001B[0m         )\n\u001B[1;32m    868\u001B[0m         graph = roads_to_graph(\n",
      "\u001B[0;32m/media/sebastian/TUM/06_code/commonroad/cps/map-converter/commonroad-map-tool/crdesigner/osm2cr/converter_modules/osm_operations/osm_parser.py\u001B[0m in \u001B[0;36mparse_file\u001B[0;34m(filename, accepted_highways, rejected_tags, custom_bounds)\u001B[0m\n\u001B[1;32m    318\u001B[0m     \u001B[0;34m:\u001B[0m\u001B[0;32mreturn\u001B[0m\u001B[0;34m:\u001B[0m \u001B[0mroads\u001B[0m\u001B[0;34m,\u001B[0m \u001B[0mroad_points\u001B[0m\u001B[0;34m:\u001B[0m \u001B[0mset\u001B[0m \u001B[0mof\u001B[0m \u001B[0mall\u001B[0m \u001B[0mway\u001B[0m \u001B[0mobjects\u001B[0m\u001B[0;34m,\u001B[0m \u001B[0mdict\u001B[0m \u001B[0mof\u001B[0m \u001B[0mrequired\u001B[0m \u001B[0mnodes\u001B[0m \u001B[0;32mand\u001B[0m \u001B[0mlist\u001B[0m \u001B[0mof\u001B[0m \u001B[0mtraffic\u001B[0m \u001B[0msigns\u001B[0m \u001B[0;32mand\u001B[0m \u001B[0mmore\u001B[0m\u001B[0;34m\u001B[0m\u001B[0;34m\u001B[0m\u001B[0m\n\u001B[1;32m    319\u001B[0m     \"\"\"\n\u001B[0;32m--> 320\u001B[0;31m     \u001B[0mtree\u001B[0m \u001B[0;34m=\u001B[0m \u001B[0mElTree\u001B[0m\u001B[0;34m.\u001B[0m\u001B[0mparse\u001B[0m\u001B[0;34m(\u001B[0m\u001B[0mfilename\u001B[0m\u001B[0;34m)\u001B[0m\u001B[0;34m\u001B[0m\u001B[0;34m\u001B[0m\u001B[0m\n\u001B[0m\u001B[1;32m    321\u001B[0m     \u001B[0mroot\u001B[0m \u001B[0;34m=\u001B[0m \u001B[0mtree\u001B[0m\u001B[0;34m.\u001B[0m\u001B[0mgetroot\u001B[0m\u001B[0;34m(\u001B[0m\u001B[0;34m)\u001B[0m\u001B[0;34m\u001B[0m\u001B[0;34m\u001B[0m\u001B[0m\n\u001B[1;32m    322\u001B[0m     \u001B[0mways\u001B[0m \u001B[0;34m=\u001B[0m \u001B[0mget_ways\u001B[0m\u001B[0;34m(\u001B[0m\u001B[0maccepted_highways\u001B[0m\u001B[0;34m,\u001B[0m \u001B[0mrejected_tags\u001B[0m\u001B[0;34m,\u001B[0m \u001B[0mroot\u001B[0m\u001B[0;34m)\u001B[0m\u001B[0;34m\u001B[0m\u001B[0;34m\u001B[0m\u001B[0m\n",
      "\u001B[0;32m~/anaconda3/envs/commonroad-py36/lib/python3.6/xml/etree/ElementTree.py\u001B[0m in \u001B[0;36mparse\u001B[0;34m(source, parser)\u001B[0m\n\u001B[1;32m   1194\u001B[0m     \"\"\"\n\u001B[1;32m   1195\u001B[0m     \u001B[0mtree\u001B[0m \u001B[0;34m=\u001B[0m \u001B[0mElementTree\u001B[0m\u001B[0;34m(\u001B[0m\u001B[0;34m)\u001B[0m\u001B[0;34m\u001B[0m\u001B[0;34m\u001B[0m\u001B[0m\n\u001B[0;32m-> 1196\u001B[0;31m     \u001B[0mtree\u001B[0m\u001B[0;34m.\u001B[0m\u001B[0mparse\u001B[0m\u001B[0;34m(\u001B[0m\u001B[0msource\u001B[0m\u001B[0;34m,\u001B[0m \u001B[0mparser\u001B[0m\u001B[0;34m)\u001B[0m\u001B[0;34m\u001B[0m\u001B[0;34m\u001B[0m\u001B[0m\n\u001B[0m\u001B[1;32m   1197\u001B[0m     \u001B[0;32mreturn\u001B[0m \u001B[0mtree\u001B[0m\u001B[0;34m\u001B[0m\u001B[0;34m\u001B[0m\u001B[0m\n\u001B[1;32m   1198\u001B[0m \u001B[0;34m\u001B[0m\u001B[0m\n",
      "\u001B[0;32m~/anaconda3/envs/commonroad-py36/lib/python3.6/xml/etree/ElementTree.py\u001B[0m in \u001B[0;36mparse\u001B[0;34m(self, source, parser)\u001B[0m\n\u001B[1;32m    584\u001B[0m         \u001B[0mclose_source\u001B[0m \u001B[0;34m=\u001B[0m \u001B[0;32mFalse\u001B[0m\u001B[0;34m\u001B[0m\u001B[0;34m\u001B[0m\u001B[0m\n\u001B[1;32m    585\u001B[0m         \u001B[0;32mif\u001B[0m \u001B[0;32mnot\u001B[0m \u001B[0mhasattr\u001B[0m\u001B[0;34m(\u001B[0m\u001B[0msource\u001B[0m\u001B[0;34m,\u001B[0m \u001B[0;34m\"read\"\u001B[0m\u001B[0;34m)\u001B[0m\u001B[0;34m:\u001B[0m\u001B[0;34m\u001B[0m\u001B[0;34m\u001B[0m\u001B[0m\n\u001B[0;32m--> 586\u001B[0;31m             \u001B[0msource\u001B[0m \u001B[0;34m=\u001B[0m \u001B[0mopen\u001B[0m\u001B[0;34m(\u001B[0m\u001B[0msource\u001B[0m\u001B[0;34m,\u001B[0m \u001B[0;34m\"rb\"\u001B[0m\u001B[0;34m)\u001B[0m\u001B[0;34m\u001B[0m\u001B[0;34m\u001B[0m\u001B[0m\n\u001B[0m\u001B[1;32m    587\u001B[0m             \u001B[0mclose_source\u001B[0m \u001B[0;34m=\u001B[0m \u001B[0;32mTrue\u001B[0m\u001B[0;34m\u001B[0m\u001B[0;34m\u001B[0m\u001B[0m\n\u001B[1;32m    588\u001B[0m         \u001B[0;32mtry\u001B[0m\u001B[0;34m:\u001B[0m\u001B[0;34m\u001B[0m\u001B[0;34m\u001B[0m\u001B[0m\n",
      "\u001B[0;31mFileNotFoundError\u001B[0m: [Errno 2] No such file or directory: 'files/ZAM_Test-1_1_T-1.osm'"
     ]
    }
   ],
   "source": [
    "import crdesigner.osm2cr.converter_modules.converter as converter\n",
    "import crdesigner.osm2cr.converter_modules.cr_operations.export as ex\n",
    "from crdesigner.osm2cr import config\n",
    "from crdesigner.osm2cr.converter_modules.osm_operations.downloader import download_around_map\n",
    "\n",
    "download_around_map(config.BENCHMARK_ID + '_downloaded.osm', 48.140289, 11.566272)\n",
    "\n",
    "# open the map and convert it to a scenario\n",
    "scenario = converter.GraphScenario(config.SAVE_PATH + config.BENCHMARK_ID + \".osm\")\n",
    "\n",
    "# draw and show the scenario\n",
    "scenario.plot()\n",
    "\n",
    "# save the scenario as commonroad file\n",
    "scenario.save_as_cr(config.SAVE_PATH + config.BENCHMARK_ID + \".xml\")\n",
    "# save the scenario as a binary\n",
    "scenario.save_to_file(config.SAVE_PATH + config.BENCHMARK_ID + \".pickle\")\n",
    "\n",
    "# view the generated\n",
    "ex.view_xml(config.SAVE_PATH + config.BENCHMARK_ID + \".xml\")"
   ],
   "metadata": {
    "collapsed": false,
    "pycharm": {
     "name": "#%%\n"
    }
   }
  },
  {
   "cell_type": "markdown",
   "source": [
    "## 3. OpenDRIVE to CommonRoad"
   ],
   "metadata": {
    "collapsed": false
   }
  },
  {
   "cell_type": "code",
   "execution_count": null,
   "outputs": [],
   "source": [],
   "metadata": {
    "collapsed": false,
    "pycharm": {
     "name": "#%%\n"
    }
   }
  },
  {
   "cell_type": "markdown",
   "source": [
    "## 3. Lanelet/Lanelet2 to CommonRoad and CommonRoad to Lanelet"
   ],
   "metadata": {
    "collapsed": false
   }
  },
  {
   "cell_type": "code",
   "execution_count": null,
   "outputs": [],
   "source": [],
   "metadata": {
    "collapsed": false,
    "pycharm": {
     "name": "#%%\n"
    }
   }
  },
  {
   "cell_type": "markdown",
   "source": [
    "## 3. CommonRoad to SUMO and Vice Versa"
   ],
   "metadata": {
    "collapsed": false
   }
  },
  {
   "cell_type": "code",
   "execution_count": null,
   "outputs": [],
   "source": [],
   "metadata": {
    "collapsed": false,
    "pycharm": {
     "name": "#%%\n"
    }
   }
  }
 ],
 "metadata": {
  "kernelspec": {
   "display_name": "Python 3",
   "language": "python",
   "name": "python3"
  },
  "language_info": {
   "codemirror_mode": {
    "name": "ipython",
    "version": 2
   },
   "file_extension": ".py",
   "mimetype": "text/x-python",
   "name": "python",
   "nbconvert_exporter": "python",
   "pygments_lexer": "ipython2",
   "version": "2.7.6"
  }
 },
 "nbformat": 4,
 "nbformat_minor": 0
}