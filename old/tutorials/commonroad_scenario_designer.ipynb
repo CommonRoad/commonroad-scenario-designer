{
 "cells": [
  {
   "cell_type": "markdown",
   "metadata": {
    "collapsed": true,
    "pycharm": {
     "name": "#%% md\n"
    }
   },
   "source": [
    "# CommonRoad Scenario Designer Tutorial\n",
    "This tutorial shows how to use the map conversion APIs of the CommonRoad Scenario Designer."
   ]
  },
  {
   "cell_type": "markdown",
   "metadata": {
    "pycharm": {
     "name": "#%% md\n"
    }
   },
   "source": [
    "## 1. Preparation\n",
    "Before you proceed any further, make sure you have successfully installed the CommonRoad Scenario Designer\n",
    "(cf. [README](../README.md))."
   ]
  },
  {
   "cell_type": "code",
   "execution_count": null,
   "metadata": {
    "pycharm": {
     "name": "#%%\n"
    }
   },
   "outputs": [],
   "source": [
    "# General Imports\n",
    "import os\n",
    "from lxml import etree\n",
    "\n",
    "from commonroad.scenario.scenario import Tag\n",
    "from commonroad.common.file_writer import CommonRoadFileWriter, OverwriteExistingFile\n",
    "from commonroad.planning.planning_problem import PlanningProblemSet\n",
    "from commonroad.common.file_reader import CommonRoadFileReader"
   ]
  },
  {
   "cell_type": "markdown",
   "metadata": {
    "pycharm": {
     "name": "#%% md\n"
    }
   },
   "source": [
    "## 2. OSM to CommonRoad\n",
    "### Download Map"
   ]
  },
  {
   "cell_type": "code",
   "execution_count": null,
   "metadata": {
    "pycharm": {
     "name": "#%%\n"
    }
   },
   "outputs": [],
   "source": [
    "from crdesigner.map_conversion.osm2cr.converter_modules.osm_operations.downloader import download_around_map\n",
    "from crdesigner.map_conversion.osm2cr import config\n",
    "\n",
    "download_around_map(config.BENCHMARK_ID + '_downloaded.osm', 48.140289, 11.566272)"
   ]
  },
  {
   "cell_type": "markdown",
   "metadata": {
    "pycharm": {
     "name": "#%% md\n"
    }
   },
   "source": [
    "### General API"
   ]
  },
  {
   "cell_type": "code",
   "execution_count": null,
   "metadata": {
    "pycharm": {
     "name": "#%%\n"
    }
   },
   "outputs": [],
   "source": [
    "from crdesigner.input_output.api import osm_to_commonroad\n",
    "\n",
    "# load OpenDRIVE file, parse it, and convert it to a CommonRoad scenario\n",
    "scenario = osm_to_commonroad(config.SAVE_PATH + config.BENCHMARK_ID + \".osm\")\n",
    "\n",
    "# store converted file as CommonRoad scenario\n",
    "writer = CommonRoadFileWriter(\n",
    "    scenario=scenario,\n",
    "    planning_problem_set=PlanningProblemSet(),\n",
    "    author=\"Sebastian Maierhofer\",\n",
    "    affiliation=\"Technical University of Munich\",\n",
    "    source=\"CommonRoad Scenario Designer\",\n",
    "    tags={Tag.URBAN},\n",
    ")\n",
    "writer.write_to_file(os.path.dirname(os.path.realpath(__file__)) + \"/\" + \"ZAM_OSM-1_1-T1.xml\",\n",
    "                     OverwriteExistingFile.ALWAYS)"
   ]
  },
  {
   "cell_type": "markdown",
   "metadata": {
    "pycharm": {
     "name": "#%% md\n"
    }
   },
   "source": [
    "### OSM conversion APIs"
   ]
  },
  {
   "cell_type": "code",
   "execution_count": null,
   "metadata": {
    "pycharm": {
     "name": "#%%\n"
    }
   },
   "outputs": [],
   "source": [
    "import crdesigner.map_conversion.osm2cr.converter_modules.converter as converter\n",
    "import crdesigner.map_conversion.osm2cr.converter_modules.cr_operations.export as ex\n",
    "\n",
    "\n",
    "# open the map and convert it to a scenario\n",
    "scenario = converter.GraphScenario(config.SAVE_PATH + config.BENCHMARK_ID + \"_downloaded.osm\")\n",
    "\n",
    "# draw and show the scenario\n",
    "scenario.plot()\n",
    "\n",
    "# save the scenario as commonroad file\n",
    "scenario.save_as_cr(config.SAVE_PATH + config.BENCHMARK_ID + \".xml\")\n",
    "# save the scenario as a binary\n",
    "scenario.save_to_file(config.SAVE_PATH + config.BENCHMARK_ID + \".pickle\")\n",
    "\n",
    "# view the generated\n",
    "ex.view_xml(config.SAVE_PATH + config.BENCHMARK_ID + \".xml\")"
   ]
  },
  {
   "cell_type": "markdown",
   "metadata": {},
   "source": [
    "## 3. OpenDRIVE to CommonRoad"
   ]
  },
  {
   "cell_type": "code",
   "execution_count": null,
   "metadata": {
    "pycharm": {
     "name": "#%%\n"
    }
   },
   "outputs": [],
   "source": [
    "input_path = \"\"  # replace empty string"
   ]
  },
  {
   "cell_type": "markdown",
   "metadata": {
    "pycharm": {
     "name": "#%% md\n"
    }
   },
   "source": [
    "### General API"
   ]
  },
  {
   "cell_type": "code",
   "execution_count": null,
   "metadata": {
    "pycharm": {
     "name": "#%%\n"
    }
   },
   "outputs": [],
   "source": [
    "from crdesigner.input_output.api import opendrive_to_commonroad\n",
    "\n",
    "# load OpenDRIVE file, parse it, and convert it to a CommonRoad scenario\n",
    "scenario = opendrive_to_commonroad(input_path)\n",
    "\n",
    "# store converted file as CommonRoad scenario\n",
    "writer = CommonRoadFileWriter(\n",
    "    scenario=scenario,\n",
    "    planning_problem_set=PlanningProblemSet(),\n",
    "    author=\"Sebastian Maierhofer\",\n",
    "    affiliation=\"Technical University of Munich\",\n",
    "    source=\"CommonRoad Scenario Designer\",\n",
    "    tags={Tag.URBAN},\n",
    ")\n",
    "writer.write_to_file(os.path.dirname(os.path.realpath(__file__)) + \"/\" + \"ZAM_OpenDRIVETest-1_1-T1.xml\",\n",
    "                     OverwriteExistingFile.ALWAYS)"
   ]
  },
  {
   "cell_type": "markdown",
   "metadata": {
    "pycharm": {
     "name": "#%% md\n"
    }
   },
   "source": [
    "### OpenDRIVE conversion APIs"
   ]
  },
  {
   "cell_type": "code",
   "execution_count": null,
   "metadata": {
    "pycharm": {
     "name": "#%%\n"
    }
   },
   "outputs": [],
   "source": [
    "from crdesigner.map_conversion.opendrive.opendrive_parser.parser import parse_opendrive\n",
    "from crdesigner.map_conversion.opendrive.opendrive_conversion.network import Network\n",
    "\n",
    "# OpenDRIVE parser to load file\n",
    "with open(\"{}\".format(input_path), \"r\") as file_in:\n",
    "    opendrive = parse_opendrive(etree.parse(file_in).getroot())\n",
    "\n",
    "# create OpenDRIVE intermediate network object\n",
    "road_network = Network()\n",
    "\n",
    "# convert OpenDRIVE file\n",
    "road_network.load_opendrive(opendrive)\n",
    "\n",
    "# export to CommonRoad scenario\n",
    "scenario = road_network.export_commonroad_scenario()\n",
    "\n",
    "# store converted file as CommonRoad scenario\n",
    "writer = CommonRoadFileWriter(\n",
    "    scenario=scenario,\n",
    "    planning_problem_set=PlanningProblemSet(),\n",
    "    author=\"Sebastian Maierhofer\",\n",
    "    affiliation=\"Technical University of Munich\",\n",
    "    source=\"CommonRoad Scenario Designer\",\n",
    "    tags={Tag.URBAN},\n",
    ")\n",
    "writer.write_to_file(os.path.dirname(os.path.realpath(__file__)) + \"/\" + \"ZAM_OpenDRIVETest-1_1-T1.xml\",\n",
    "                     OverwriteExistingFile.ALWAYS)"
   ]
  },
  {
   "cell_type": "markdown",
   "metadata": {},
   "source": [
    "## 4. Lanelet/Lanelet2 to CommonRoad and CommonRoad to Lanelet"
   ]
  },
  {
   "cell_type": "code",
   "execution_count": null,
   "metadata": {
    "pycharm": {
     "name": "#%%\n"
    }
   },
   "outputs": [],
   "source": [
    "input_path = \"\"  # replace empty string\n",
    "proj = \"\"  # replace empty string\n",
    "left_driving = False  # replace with favoured value\n",
    "adjacencies = False  # replace with favoured value"
   ]
  },
  {
   "cell_type": "markdown",
   "metadata": {
    "pycharm": {
     "name": "#%% md\n"
    }
   },
   "source": [
    "### General API"
   ]
  },
  {
   "cell_type": "code",
   "execution_count": null,
   "metadata": {
    "pycharm": {
     "name": "#%%\n"
    }
   },
   "outputs": [],
   "source": [
    "from crdesigner.input_output.api import lanelet_to_commonroad\n",
    "\n",
    "scenario = lanelet_to_commonroad(input_path, proj, left_driving, adjacencies)\n",
    "\n",
    "# store converted file as CommonRoad scenario\n",
    "writer = CommonRoadFileWriter(\n",
    "    scenario=scenario,\n",
    "    planning_problem_set=PlanningProblemSet(),\n",
    "    author=\"Sebastian Maierhofer\",\n",
    "    affiliation=\"Technical University of Munich\",\n",
    "    source=\"CommonRoad Scenario Designer\",\n",
    "    tags={Tag.URBAN},\n",
    ")\n",
    "writer.write_to_file(os.path.dirname(os.path.realpath(__file__)) + \"/\" + \"ZAM_Lanelet-1_1-T1.xml\",\n",
    "                     OverwriteExistingFile.ALWAYS)"
   ]
  },
  {
   "cell_type": "markdown",
   "metadata": {
    "pycharm": {
     "name": "#%% md\n"
    }
   },
   "source": [
    "### Lanelet conversion APIs"
   ]
  },
  {
   "cell_type": "code",
   "execution_count": null,
   "metadata": {
    "pycharm": {
     "name": "#%%\n"
    }
   },
   "outputs": [],
   "source": [
    "from crdesigner.map_conversion.lanelet_lanelet2.lanelet2cr import Lanelet2CRConverter\n",
    "from crdesigner.map_conversion.lanelet_lanelet2.lanelet2_parser import Lanelet2Parser\n",
    "\n",
    "# read and parse lanelet/lanelet2 file\n",
    "parser = Lanelet2Parser(etree.parse(input_path).getroot())\n",
    "lanelet2_content = parser.parse()\n",
    "\n",
    "# convert lanelet/lanelet2 map to CommonRoad\n",
    "lanelet2_converter = Lanelet2CRConverter(proj_string=proj)\n",
    "scenario = lanelet2_converter(lanelet2_content, detect_adjacencies=adjacencies, left_driving_system=left_driving)\n",
    "\n",
    "# store converted file as CommonRoad scenario\n",
    "writer = CommonRoadFileWriter(\n",
    "    scenario=scenario,\n",
    "    planning_problem_set=PlanningProblemSet(),\n",
    "    author=\"Sebastian Maierhofer\",\n",
    "    affiliation=\"Technical University of Munich\",\n",
    "    source=\"CommonRoad Scenario Designer\",\n",
    "    tags={Tag.URBAN},\n",
    ")\n",
    "writer.write_to_file(os.path.dirname(os.path.realpath(__file__)) + \"/\" + \"ZAM_Lanelet-1_1-T1.xml\",\n",
    "                     OverwriteExistingFile.ALWAYS)"
   ]
  },
  {
   "cell_type": "markdown",
   "metadata": {
    "pycharm": {
     "name": "#%% md\n"
    }
   },
   "source": [
    "## 5. CommonRoad to Lanelet"
   ]
  },
  {
   "cell_type": "code",
   "execution_count": null,
   "metadata": {
    "pycharm": {
     "name": "#%%\n"
    }
   },
   "outputs": [],
   "source": [
    "input_path = \"\"  # replace empty string\n",
    "output_name = \"\"  # replace empty string\n",
    "proj = \"\"  # replace empty string"
   ]
  },
  {
   "cell_type": "markdown",
   "metadata": {
    "pycharm": {
     "name": "#%% md\n"
    }
   },
   "source": [
    "### General API"
   ]
  },
  {
   "cell_type": "code",
   "execution_count": null,
   "metadata": {
    "pycharm": {
     "name": "#%%\n"
    }
   },
   "outputs": [],
   "source": [
    "from crdesigner.input_output.api import commonroad_to_lanelet\n",
    "\n",
    "# load CommonRoad file and convert it to lanelet format\n",
    "commonroad_to_lanelet(input_path, output_name, proj)"
   ]
  },
  {
   "cell_type": "markdown",
   "metadata": {
    "pycharm": {
     "name": "#%% md\n"
    }
   },
   "source": [
    "### Lanelet conversion APIs"
   ]
  },
  {
   "cell_type": "code",
   "execution_count": null,
   "metadata": {
    "pycharm": {
     "name": "#%%\n"
    }
   },
   "outputs": [],
   "source": [
    "from crdesigner.map_conversion.lanelet_lanelet2.cr2lanelet import CR2LaneletConverter\n",
    "\n",
    "try:\n",
    "    commonroad_reader = CommonRoadFileReader(input_path)\n",
    "    scenario, _ = commonroad_reader.open()\n",
    "except etree.XMLSyntaxError as xml_error:\n",
    "    print(f\"SyntaxError: {xml_error}\")\n",
    "    print(\"There was an error during the loading of the selected CommonRoad file.\\n\")\n",
    "    scenario = None\n",
    "\n",
    "if scenario:\n",
    "    l2osm = CR2LaneletConverter(proj)\n",
    "    osm = l2osm(scenario)\n",
    "    with open(f\"{output_name}\", \"wb\") as file_out:\n",
    "        file_out.write(etree.tostring(osm, xml_declaration=True, encoding=\"UTF-8\", pretty_print=True))"
   ]
  },
  {
   "cell_type": "markdown",
   "metadata": {},
   "source": [
    "## 6. SUMO to CommonRoad"
   ]
  },
  {
   "cell_type": "code",
   "execution_count": null,
   "metadata": {
    "pycharm": {
     "name": "#%%\n"
    }
   },
   "outputs": [],
   "source": [
    "input_file = \"\"  # replace empty string"
   ]
  },
  {
   "cell_type": "markdown",
   "metadata": {},
   "source": [
    "### General API\n"
   ]
  },
  {
   "cell_type": "code",
   "execution_count": null,
   "metadata": {
    "pycharm": {
     "name": "#%%\n"
    }
   },
   "outputs": [],
   "source": [
    "from crdesigner.input_output.api import sumo_to_commonroad\n",
    "\n",
    "# load SUMO net file, parse it, and convert it to a CommonRoad map\n",
    "scenario = sumo_to_commonroad(input_file)\n",
    "\n",
    "# store converted file as CommonRoad scenario\n",
    "writer = CommonRoadFileWriter(\n",
    "    scenario=scenario,\n",
    "    planning_problem_set=PlanningProblemSet(),\n",
    "    author=\"Sebastian Maierhofer\",\n",
    "    affiliation=\"Technical University of Munich\",\n",
    "    source=\"CommonRoad Scenario Designer\",\n",
    "    tags={Tag.URBAN},\n",
    ")\n",
    "writer.write_to_file(os.path.dirname(os.path.realpath(__file__)) + \"/\" + \"ZAM_SUMO-1_1-T1.xml\",\n",
    "                     OverwriteExistingFile.ALWAYS)"
   ]
  },
  {
   "cell_type": "markdown",
   "metadata": {
    "pycharm": {
     "name": "#%% md\n"
    }
   },
   "source": [
    "### SUMO conversion APIs\n"
   ]
  },
  {
   "cell_type": "code",
   "execution_count": null,
   "metadata": {
    "pycharm": {
     "name": "#%%\n"
    }
   },
   "outputs": [],
   "source": [
    "from crdesigner.input_output.gui.toolboxes.gui_sumo_simulation import SUMO_AVAILABLE\n",
    "if SUMO_AVAILABLE:\n",
    "    from crdesigner.map_conversion.sumo_map.sumo2cr import convert_net_to_cr\n",
    "\n",
    "# load SUMO net file, parse it, and convert it to a CommonRoad map\n",
    "scenario = convert_net_to_cr(input_file)\n",
    "\n",
    "# store converted file as CommonRoad scenario\n",
    "writer = CommonRoadFileWriter(\n",
    "    scenario=scenario,\n",
    "    planning_problem_set=PlanningProblemSet(),\n",
    "    author=\"Sebastian Maierhofer\",\n",
    "    affiliation=\"Technical University of Munich\",\n",
    "    source=\"CommonRoad Scenario Designer\",\n",
    "    tags={Tag.URBAN},\n",
    ")\n",
    "writer.write_to_file(os.path.dirname(os.path.realpath(__file__)) + \"/\" + \"ZAM_SUMO-1_1-T1.xml\",\n",
    "                     OverwriteExistingFile.ALWAYS)"
   ]
  },
  {
   "cell_type": "markdown",
   "metadata": {},
   "source": [
    "## 7. CommonRoad to SUMO"
   ]
  },
  {
   "cell_type": "code",
   "execution_count": null,
   "metadata": {
    "pycharm": {
     "name": "#%%\n"
    }
   },
   "outputs": [],
   "source": [
    "output_folder = \"\"  # replace empty string\n",
    "scenario_name = \"\"  # replace empty string\n",
    "input_file = os.path.join(output_folder, scenario_name + '.xml')\n",
    "scenario, planning_problem = CommonRoadFileReader(input_file).open()"
   ]
  },
  {
   "cell_type": "markdown",
   "metadata": {},
   "source": [
    "### General API"
   ]
  },
  {
   "cell_type": "code",
   "execution_count": null,
   "metadata": {
    "pycharm": {
     "name": "#%%\n"
    }
   },
   "outputs": [],
   "source": [
    "from crdesigner.input_output.api import commonroad_to_sumo\n",
    "\n",
    "commonroad_to_sumo(input_file, output_folder)"
   ]
  },
  {
   "cell_type": "markdown",
   "metadata": {},
   "source": [
    "### SUMO conversion APIs\n"
   ]
  },
  {
   "cell_type": "code",
   "execution_count": null,
   "metadata": {
    "pycharm": {
     "name": "#%%\n"
    }
   },
   "outputs": [],
   "source": [
    "import uuid\n",
    "from crdesigner.input_output.gui.toolboxes.gui_sumo_simulation import SUMO_AVAILABLE\n",
    "if SUMO_AVAILABLE:\n",
    "    from crdesigner.map_conversion.sumo_map.config import SumoConfig\n",
    "    from crdesigner.map_conversion.sumo_map.cr2sumo.converter import CR2SumoMapConverter\n",
    "\n",
    "try:\n",
    "    commonroad_reader = CommonRoadFileReader(input_file)\n",
    "    scenario, _ = commonroad_reader.open()\n",
    "except etree.XMLSyntaxError as xml_error:\n",
    "    print(f\"SyntaxError: {xml_error}\")\n",
    "    print(\n",
    "        \"There was an error during the loading of the selected CommonRoad file.\\n\")\n",
    "\n",
    "if SUMO_AVAILABLE:\n",
    "    config = SumoConfig.from_scenario_name(str(uuid.uuid4()))\n",
    "    config.scenario_name = scenario_name\n",
    "    converter = CR2SumoMapConverter(scenario.lanelet_network, config)\n",
    "    converter.convert_to_net_file(output_folder)"
   ]
  },
  {
   "cell_type": "markdown",
   "metadata": {},
   "source": [
    "### SUMO conversion APIs with Traffic Simulation and Video Creation"
   ]
  },
  {
   "cell_type": "code",
   "execution_count": null,
   "metadata": {
    "pycharm": {
     "name": "#%%\n"
    }
   },
   "outputs": [],
   "source": [
    "from commonroad.visualization.mp_renderer import MPRenderer\n",
    "import numpy as np\n",
    "from crdesigner.input_output.gui.toolboxes.gui_sumo_simulation import SUMO_AVAILABLE\n",
    "if SUMO_AVAILABLE:\n",
    "    from crdesigner.map_conversion.sumo_map.config import SumoConfig\n",
    "    from crdesigner.map_conversion.sumo_map.cr2sumo.converter import CR2SumoMapConverter\n",
    "    from sumocr.interface.sumo_simulation import SumoSimulation\n",
    "    from sumocr.visualization.video import create_video\n",
    "\n",
    "# translate scenario to center\n",
    "centroid = np.mean(np.concatenate(\n",
    "    [la.center_vertices for la in scenario.lanelet_network.lanelets]),\n",
    "    axis=0)\n",
    "scenario.translate_rotate(-centroid, 0)\n",
    "planning_problem.translate_rotate(-centroid, 0)\n",
    "\n",
    "config = SumoConfig.from_scenario_name(scenario_name)\n",
    "\n",
    "# convert CR to sumo net\n",
    "wrapper = CR2SumoMapConverter(scenario.lanelet_network, config)\n",
    "wrapper.convert_to_net_file(output_folder)\n",
    "tls_lanelet_id = 43513\n",
    "traffic_light_system_generated = wrapper.auto_generate_traffic_light_system(tls_lanelet_id)\n",
    "\n",
    "print(f\"Generated Traffic Light System at {tls_lanelet_id}, {traffic_light_system_generated}\")\n",
    "\n",
    "# draw scenario after traffic light generation\n",
    "rnd = MPRenderer()\n",
    "wrapper.lanelet_network.draw(rnd)\n",
    "rnd.render(show=True)\n",
    "\n",
    "# write generated traffic lights back to commonroad file\n",
    "scenario.lanelet_network = wrapper.lanelet_network\n",
    "\n",
    "# run Simulation\n",
    "simulation = SumoSimulation()\n",
    "simulation.initialize(config, wrapper)\n",
    "\n",
    "for t in range(config.simulation_steps):\n",
    "    simulation.simulate_step()\n",
    "\n",
    "simulation.stop()\n",
    "\n",
    "# save resulting scenario\n",
    "simulated_scenario = simulation.commonroad_scenarios_all_time_steps()\n",
    "CommonRoadFileWriter(simulated_scenario,\n",
    "                     planning_problem,\n",
    "                     author=scenario.author,\n",
    "                     affiliation=scenario.affiliation,\n",
    "                     source=scenario.source,\n",
    "                     tags=scenario.tags,\n",
    "                     location=scenario.location).write_scenario_to_file(\n",
    "    os.path.join(output_folder,\n",
    "                 config.scenario_name + \".simulated.xml\"),\n",
    "    overwrite_existing_file=OverwriteExistingFile.ALWAYS)\n",
    "\n",
    "print(\"creating video (this may take some time)\")\n",
    "create_video(simulation.commonroad_scenarios_all_time_steps(),\n",
    "             output_folder, trajectory_pred=simulation.ego_vehicles)"
   ]
  }
 ],
 "metadata": {
  "kernelspec": {
   "display_name": "Python 3 (ipykernel)",
   "language": "python",
   "name": "python3"
  },
  "language_info": {
   "codemirror_mode": {
    "name": "ipython",
    "version": 3
   },
   "file_extension": ".py",
   "mimetype": "text/x-python",
   "name": "python",
   "nbconvert_exporter": "python",
   "pygments_lexer": "ipython3",
   "version": "3.7.10"
  }
 },
 "nbformat": 4,
 "nbformat_minor": 1
}